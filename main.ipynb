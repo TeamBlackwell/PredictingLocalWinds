{
 "cells": [
  {
   "cell_type": "code",
   "execution_count": 103,
   "metadata": {},
   "outputs": [],
   "source": [
    "import os\n",
    "import pandas as pd\n",
    "from torch.utils.data import Dataset, DataLoader\n",
    "import numpy as np\n",
    "import matplotlib.pyplot as plt\n",
    "from rich import print\n",
    "import torch\n",
    "from model import BasicMLP"
   ]
  },
  {
   "cell_type": "code",
   "execution_count": 104,
   "metadata": {},
   "outputs": [],
   "source": [
    "class LocalWindFieldDataset(Dataset):\n",
    "    def __init__(self, csv_file, rect_fol, wind_fol, root_dir=\"\", local=2):\n",
    "        print(\"Local field set to: \", local)\n",
    "        self.main_data = pd.read_csv(os.path.join(root_dir, csv_file))\n",
    "        self.rect_file_path = os.path.join(root_dir, rect_fol)\n",
    "        self.wind_file_path = os.path.join(root_dir, wind_fol)\n",
    "        self.local = local\n",
    "    def __len__(self):\n",
    "        return len(self.main_data)\n",
    "    \n",
    "    def getLocalWinds(self,robo_coords, winds):\n",
    "        startcoord = robo_coords - self.local\n",
    "        endcoord = robo_coords + self.local + 1\n",
    "        if startcoord[0] < 0 or startcoord[1] < 0 or endcoord[0] >= winds.shape[0] or endcoord[1] >= winds.shape[1]:\n",
    "            print(\"Out of bounds\")\n",
    "            return None\n",
    "        local_winds = winds[startcoord[0]:endcoord[0], startcoord[1]:endcoord[1]]\n",
    "        return torch.tensor(local_winds,dtype=torch.float64) \n",
    "    \n",
    "    def __getitem__(self, idx):\n",
    "        data = self.main_data.iloc[idx]\n",
    "        rect_path = os.path.join(self.rect_file_path, str(data[\"index\"]) + \"_r.npy\")\n",
    "        winds_path = os.path.join(self.wind_file_path, str(data[\"index\"]) + \"_m.npy\")\n",
    "        winds = np.load(winds_path)\n",
    "        robo_coords = torch.tensor([data[\"xr\"], data[\"yr\"]])\n",
    "        # print(f\"Robot Coordinates: {robo_coords}\")\n",
    "        local_winds = self.getLocalWinds(robo_coords, winds)\n",
    "        rect = np.load(rect_path)\n",
    "        # lidar = getLidar(rects)\n",
    "        lidar = torch.rand(360,dtype=torch.float64)\n",
    "        return lidar,torch.tensor(winds[robo_coords[0]][robo_coords[0]],dtype=torch.float64),local_winds"
   ]
  },
  {
   "cell_type": "code",
   "execution_count": 105,
   "metadata": {},
   "outputs": [
    {
     "data": {
      "text/html": [
       "<pre style=\"white-space:pre;overflow-x:auto;line-height:normal;font-family:Menlo,'DejaVu Sans Mono',consolas,'Courier New',monospace\">Local field set to:  <span style=\"color: #008080; text-decoration-color: #008080; font-weight: bold\">1</span>\n",
       "</pre>\n"
      ],
      "text/plain": [
       "Local field set to:  \u001b[1;36m1\u001b[0m\n"
      ]
     },
     "metadata": {},
     "output_type": "display_data"
    }
   ],
   "source": [
    "local_wind_field_dataset = LocalWindFieldDataset(csv_file=\"data.csv\",rect_fol = 'rects',wind_fol = 'wind_fields', root_dir = 'data',local=1)"
   ]
  },
  {
   "cell_type": "code",
   "execution_count": 106,
   "metadata": {},
   "outputs": [],
   "source": [
    "model = BasicMLP(local = local_wind_field_dataset.local)"
   ]
  },
  {
   "cell_type": "code",
   "execution_count": 107,
   "metadata": {},
   "outputs": [
    {
     "data": {
      "text/html": [
       "<pre style=\"white-space:pre;overflow-x:auto;line-height:normal;font-family:Menlo,'DejaVu Sans Mono',consolas,'Courier New',monospace\"><span style=\"color: #008080; text-decoration-color: #008080; font-weight: bold\">1</span>:  lidar shape - <span style=\"color: #800080; text-decoration-color: #800080; font-weight: bold\">torch.Size</span><span style=\"font-weight: bold\">([</span><span style=\"color: #008080; text-decoration-color: #008080; font-weight: bold\">360</span><span style=\"font-weight: bold\">])</span> and wind on robot -  <span style=\"color: #800080; text-decoration-color: #800080; font-weight: bold\">torch.Size</span><span style=\"font-weight: bold\">([</span><span style=\"color: #008080; text-decoration-color: #008080; font-weight: bold\">2</span><span style=\"font-weight: bold\">])</span> and  \n",
       " Wind Fields shape- <span style=\"color: #800080; text-decoration-color: #800080; font-weight: bold\">torch.Size</span><span style=\"font-weight: bold\">([</span><span style=\"color: #008080; text-decoration-color: #008080; font-weight: bold\">3</span>, <span style=\"color: #008080; text-decoration-color: #008080; font-weight: bold\">3</span>, <span style=\"color: #008080; text-decoration-color: #008080; font-weight: bold\">2</span><span style=\"font-weight: bold\">])</span>\n",
       "</pre>\n"
      ],
      "text/plain": [
       "\u001b[1;36m1\u001b[0m:  lidar shape - \u001b[1;35mtorch.Size\u001b[0m\u001b[1m(\u001b[0m\u001b[1m[\u001b[0m\u001b[1;36m360\u001b[0m\u001b[1m]\u001b[0m\u001b[1m)\u001b[0m and wind on robot -  \u001b[1;35mtorch.Size\u001b[0m\u001b[1m(\u001b[0m\u001b[1m[\u001b[0m\u001b[1;36m2\u001b[0m\u001b[1m]\u001b[0m\u001b[1m)\u001b[0m and  \n",
       " Wind Fields shape- \u001b[1;35mtorch.Size\u001b[0m\u001b[1m(\u001b[0m\u001b[1m[\u001b[0m\u001b[1;36m3\u001b[0m, \u001b[1;36m3\u001b[0m, \u001b[1;36m2\u001b[0m\u001b[1m]\u001b[0m\u001b[1m)\u001b[0m\n"
      ]
     },
     "metadata": {},
     "output_type": "display_data"
    },
    {
     "data": {
      "text/html": [
       "<pre style=\"white-space:pre;overflow-x:auto;line-height:normal;font-family:Menlo,'DejaVu Sans Mono',consolas,'Courier New',monospace\"><span style=\"color: #008080; text-decoration-color: #008080; font-weight: bold\">2</span>:  lidar shape - <span style=\"color: #800080; text-decoration-color: #800080; font-weight: bold\">torch.Size</span><span style=\"font-weight: bold\">([</span><span style=\"color: #008080; text-decoration-color: #008080; font-weight: bold\">360</span><span style=\"font-weight: bold\">])</span> and wind on robot -  <span style=\"color: #800080; text-decoration-color: #800080; font-weight: bold\">torch.Size</span><span style=\"font-weight: bold\">([</span><span style=\"color: #008080; text-decoration-color: #008080; font-weight: bold\">2</span><span style=\"font-weight: bold\">])</span> and  \n",
       " Wind Fields shape- <span style=\"color: #800080; text-decoration-color: #800080; font-weight: bold\">torch.Size</span><span style=\"font-weight: bold\">([</span><span style=\"color: #008080; text-decoration-color: #008080; font-weight: bold\">3</span>, <span style=\"color: #008080; text-decoration-color: #008080; font-weight: bold\">3</span>, <span style=\"color: #008080; text-decoration-color: #008080; font-weight: bold\">2</span><span style=\"font-weight: bold\">])</span>\n",
       "</pre>\n"
      ],
      "text/plain": [
       "\u001b[1;36m2\u001b[0m:  lidar shape - \u001b[1;35mtorch.Size\u001b[0m\u001b[1m(\u001b[0m\u001b[1m[\u001b[0m\u001b[1;36m360\u001b[0m\u001b[1m]\u001b[0m\u001b[1m)\u001b[0m and wind on robot -  \u001b[1;35mtorch.Size\u001b[0m\u001b[1m(\u001b[0m\u001b[1m[\u001b[0m\u001b[1;36m2\u001b[0m\u001b[1m]\u001b[0m\u001b[1m)\u001b[0m and  \n",
       " Wind Fields shape- \u001b[1;35mtorch.Size\u001b[0m\u001b[1m(\u001b[0m\u001b[1m[\u001b[0m\u001b[1;36m3\u001b[0m, \u001b[1;36m3\u001b[0m, \u001b[1;36m2\u001b[0m\u001b[1m]\u001b[0m\u001b[1m)\u001b[0m\n"
      ]
     },
     "metadata": {},
     "output_type": "display_data"
    },
    {
     "data": {
      "text/html": [
       "<pre style=\"white-space:pre;overflow-x:auto;line-height:normal;font-family:Menlo,'DejaVu Sans Mono',consolas,'Courier New',monospace\"><span style=\"color: #008080; text-decoration-color: #008080; font-weight: bold\">3</span>:  lidar shape - <span style=\"color: #800080; text-decoration-color: #800080; font-weight: bold\">torch.Size</span><span style=\"font-weight: bold\">([</span><span style=\"color: #008080; text-decoration-color: #008080; font-weight: bold\">360</span><span style=\"font-weight: bold\">])</span> and wind on robot -  <span style=\"color: #800080; text-decoration-color: #800080; font-weight: bold\">torch.Size</span><span style=\"font-weight: bold\">([</span><span style=\"color: #008080; text-decoration-color: #008080; font-weight: bold\">2</span><span style=\"font-weight: bold\">])</span> and  \n",
       " Wind Fields shape- <span style=\"color: #800080; text-decoration-color: #800080; font-weight: bold\">torch.Size</span><span style=\"font-weight: bold\">([</span><span style=\"color: #008080; text-decoration-color: #008080; font-weight: bold\">3</span>, <span style=\"color: #008080; text-decoration-color: #008080; font-weight: bold\">3</span>, <span style=\"color: #008080; text-decoration-color: #008080; font-weight: bold\">2</span><span style=\"font-weight: bold\">])</span>\n",
       "</pre>\n"
      ],
      "text/plain": [
       "\u001b[1;36m3\u001b[0m:  lidar shape - \u001b[1;35mtorch.Size\u001b[0m\u001b[1m(\u001b[0m\u001b[1m[\u001b[0m\u001b[1;36m360\u001b[0m\u001b[1m]\u001b[0m\u001b[1m)\u001b[0m and wind on robot -  \u001b[1;35mtorch.Size\u001b[0m\u001b[1m(\u001b[0m\u001b[1m[\u001b[0m\u001b[1;36m2\u001b[0m\u001b[1m]\u001b[0m\u001b[1m)\u001b[0m and  \n",
       " Wind Fields shape- \u001b[1;35mtorch.Size\u001b[0m\u001b[1m(\u001b[0m\u001b[1m[\u001b[0m\u001b[1;36m3\u001b[0m, \u001b[1;36m3\u001b[0m, \u001b[1;36m2\u001b[0m\u001b[1m]\u001b[0m\u001b[1m)\u001b[0m\n"
      ]
     },
     "metadata": {},
     "output_type": "display_data"
    },
    {
     "data": {
      "text/html": [
       "<pre style=\"white-space:pre;overflow-x:auto;line-height:normal;font-family:Menlo,'DejaVu Sans Mono',consolas,'Courier New',monospace\"><span style=\"color: #008080; text-decoration-color: #008080; font-weight: bold\">4</span>:  lidar shape - <span style=\"color: #800080; text-decoration-color: #800080; font-weight: bold\">torch.Size</span><span style=\"font-weight: bold\">([</span><span style=\"color: #008080; text-decoration-color: #008080; font-weight: bold\">360</span><span style=\"font-weight: bold\">])</span> and wind on robot -  <span style=\"color: #800080; text-decoration-color: #800080; font-weight: bold\">torch.Size</span><span style=\"font-weight: bold\">([</span><span style=\"color: #008080; text-decoration-color: #008080; font-weight: bold\">2</span><span style=\"font-weight: bold\">])</span> and  \n",
       " Wind Fields shape- <span style=\"color: #800080; text-decoration-color: #800080; font-weight: bold\">torch.Size</span><span style=\"font-weight: bold\">([</span><span style=\"color: #008080; text-decoration-color: #008080; font-weight: bold\">3</span>, <span style=\"color: #008080; text-decoration-color: #008080; font-weight: bold\">3</span>, <span style=\"color: #008080; text-decoration-color: #008080; font-weight: bold\">2</span><span style=\"font-weight: bold\">])</span>\n",
       "</pre>\n"
      ],
      "text/plain": [
       "\u001b[1;36m4\u001b[0m:  lidar shape - \u001b[1;35mtorch.Size\u001b[0m\u001b[1m(\u001b[0m\u001b[1m[\u001b[0m\u001b[1;36m360\u001b[0m\u001b[1m]\u001b[0m\u001b[1m)\u001b[0m and wind on robot -  \u001b[1;35mtorch.Size\u001b[0m\u001b[1m(\u001b[0m\u001b[1m[\u001b[0m\u001b[1;36m2\u001b[0m\u001b[1m]\u001b[0m\u001b[1m)\u001b[0m and  \n",
       " Wind Fields shape- \u001b[1;35mtorch.Size\u001b[0m\u001b[1m(\u001b[0m\u001b[1m[\u001b[0m\u001b[1;36m3\u001b[0m, \u001b[1;36m3\u001b[0m, \u001b[1;36m2\u001b[0m\u001b[1m]\u001b[0m\u001b[1m)\u001b[0m\n"
      ]
     },
     "metadata": {},
     "output_type": "display_data"
    }
   ],
   "source": [
    "for i, sample in enumerate(local_wind_field_dataset, 1):\n",
    "    lidar, wind_at_robot, winds_y = sample\n",
    "    print(f\"{i}:  lidar shape - {lidar.shape} and wind on robot -  {wind_at_robot.shape} and  \\n Wind Fields shape- {winds_y.shape}\")"
   ]
  },
  {
   "cell_type": "code",
   "execution_count": 108,
   "metadata": {},
   "outputs": [],
   "source": [
    "optimizer = torch.optim.Adam(model.parameters(), lr=0.001)\n",
    "criterion = torch.nn.MSELoss()"
   ]
  },
  {
   "cell_type": "code",
   "execution_count": 109,
   "metadata": {},
   "outputs": [
    {
     "name": "stderr",
     "output_type": "stream",
     "text": [
      "c:\\Python311\\Lib\\site-packages\\torch\\nn\\modules\\loss.py:535: UserWarning: Using a target size (torch.Size([3, 3, 2])) that is different to the input size (torch.Size([1, 3, 3, 2])). This will likely lead to incorrect results due to broadcasting. Please ensure they have the same size.\n",
      "  return F.mse_loss(input, target, reduction=self.reduction)\n"
     ]
    },
    {
     "data": {
      "text/html": [
       "<pre style=\"white-space:pre;overflow-x:auto;line-height:normal;font-family:Menlo,'DejaVu Sans Mono',consolas,'Courier New',monospace\">Sample <span style=\"font-weight: bold\">[</span><span style=\"color: #008080; text-decoration-color: #008080; font-weight: bold\">1</span>/<span style=\"color: #008080; text-decoration-color: #008080; font-weight: bold\">4</span><span style=\"font-weight: bold\">]</span>, Loss: <span style=\"color: #008080; text-decoration-color: #008080; font-weight: bold\">3621.9912</span>\n",
       "</pre>\n"
      ],
      "text/plain": [
       "Sample \u001b[1m[\u001b[0m\u001b[1;36m1\u001b[0m/\u001b[1;36m4\u001b[0m\u001b[1m]\u001b[0m, Loss: \u001b[1;36m3621.9912\u001b[0m\n"
      ]
     },
     "metadata": {},
     "output_type": "display_data"
    },
    {
     "data": {
      "text/html": [
       "<pre style=\"white-space:pre;overflow-x:auto;line-height:normal;font-family:Menlo,'DejaVu Sans Mono',consolas,'Courier New',monospace\">Sample <span style=\"font-weight: bold\">[</span><span style=\"color: #008080; text-decoration-color: #008080; font-weight: bold\">2</span>/<span style=\"color: #008080; text-decoration-color: #008080; font-weight: bold\">4</span><span style=\"font-weight: bold\">]</span>, Loss: <span style=\"color: #008080; text-decoration-color: #008080; font-weight: bold\">3390.4951</span>\n",
       "</pre>\n"
      ],
      "text/plain": [
       "Sample \u001b[1m[\u001b[0m\u001b[1;36m2\u001b[0m/\u001b[1;36m4\u001b[0m\u001b[1m]\u001b[0m, Loss: \u001b[1;36m3390.4951\u001b[0m\n"
      ]
     },
     "metadata": {},
     "output_type": "display_data"
    },
    {
     "data": {
      "text/html": [
       "<pre style=\"white-space:pre;overflow-x:auto;line-height:normal;font-family:Menlo,'DejaVu Sans Mono',consolas,'Courier New',monospace\">Sample <span style=\"font-weight: bold\">[</span><span style=\"color: #008080; text-decoration-color: #008080; font-weight: bold\">3</span>/<span style=\"color: #008080; text-decoration-color: #008080; font-weight: bold\">4</span><span style=\"font-weight: bold\">]</span>, Loss: <span style=\"color: #008080; text-decoration-color: #008080; font-weight: bold\">3665.0786</span>\n",
       "</pre>\n"
      ],
      "text/plain": [
       "Sample \u001b[1m[\u001b[0m\u001b[1;36m3\u001b[0m/\u001b[1;36m4\u001b[0m\u001b[1m]\u001b[0m, Loss: \u001b[1;36m3665.0786\u001b[0m\n"
      ]
     },
     "metadata": {},
     "output_type": "display_data"
    },
    {
     "data": {
      "text/html": [
       "<pre style=\"white-space:pre;overflow-x:auto;line-height:normal;font-family:Menlo,'DejaVu Sans Mono',consolas,'Courier New',monospace\">Sample <span style=\"font-weight: bold\">[</span><span style=\"color: #008080; text-decoration-color: #008080; font-weight: bold\">4</span>/<span style=\"color: #008080; text-decoration-color: #008080; font-weight: bold\">4</span><span style=\"font-weight: bold\">]</span>, Loss: <span style=\"color: #008080; text-decoration-color: #008080; font-weight: bold\">2793.7183</span>\n",
       "</pre>\n"
      ],
      "text/plain": [
       "Sample \u001b[1m[\u001b[0m\u001b[1;36m4\u001b[0m/\u001b[1;36m4\u001b[0m\u001b[1m]\u001b[0m, Loss: \u001b[1;36m2793.7183\u001b[0m\n"
      ]
     },
     "metadata": {},
     "output_type": "display_data"
    },
    {
     "data": {
      "text/html": [
       "<pre style=\"white-space:pre;overflow-x:auto;line-height:normal;font-family:Menlo,'DejaVu Sans Mono',consolas,'Courier New',monospace\">Epoch <span style=\"font-weight: bold\">[</span><span style=\"color: #008080; text-decoration-color: #008080; font-weight: bold\">1</span>/<span style=\"color: #008080; text-decoration-color: #008080; font-weight: bold\">10</span><span style=\"font-weight: bold\">]</span>, Average Loss: <span style=\"color: #008080; text-decoration-color: #008080; font-weight: bold\">3367.8208</span>\n",
       "</pre>\n"
      ],
      "text/plain": [
       "Epoch \u001b[1m[\u001b[0m\u001b[1;36m1\u001b[0m/\u001b[1;36m10\u001b[0m\u001b[1m]\u001b[0m, Average Loss: \u001b[1;36m3367.8208\u001b[0m\n"
      ]
     },
     "metadata": {},
     "output_type": "display_data"
    },
    {
     "data": {
      "text/html": [
       "<pre style=\"white-space:pre;overflow-x:auto;line-height:normal;font-family:Menlo,'DejaVu Sans Mono',consolas,'Courier New',monospace\">Sample <span style=\"font-weight: bold\">[</span><span style=\"color: #008080; text-decoration-color: #008080; font-weight: bold\">1</span>/<span style=\"color: #008080; text-decoration-color: #008080; font-weight: bold\">4</span><span style=\"font-weight: bold\">]</span>, Loss: <span style=\"color: #008080; text-decoration-color: #008080; font-weight: bold\">3488.5330</span>\n",
       "</pre>\n"
      ],
      "text/plain": [
       "Sample \u001b[1m[\u001b[0m\u001b[1;36m1\u001b[0m/\u001b[1;36m4\u001b[0m\u001b[1m]\u001b[0m, Loss: \u001b[1;36m3488.5330\u001b[0m\n"
      ]
     },
     "metadata": {},
     "output_type": "display_data"
    },
    {
     "data": {
      "text/html": [
       "<pre style=\"white-space:pre;overflow-x:auto;line-height:normal;font-family:Menlo,'DejaVu Sans Mono',consolas,'Courier New',monospace\">Sample <span style=\"font-weight: bold\">[</span><span style=\"color: #008080; text-decoration-color: #008080; font-weight: bold\">2</span>/<span style=\"color: #008080; text-decoration-color: #008080; font-weight: bold\">4</span><span style=\"font-weight: bold\">]</span>, Loss: <span style=\"color: #008080; text-decoration-color: #008080; font-weight: bold\">3264.0623</span>\n",
       "</pre>\n"
      ],
      "text/plain": [
       "Sample \u001b[1m[\u001b[0m\u001b[1;36m2\u001b[0m/\u001b[1;36m4\u001b[0m\u001b[1m]\u001b[0m, Loss: \u001b[1;36m3264.0623\u001b[0m\n"
      ]
     },
     "metadata": {},
     "output_type": "display_data"
    },
    {
     "data": {
      "text/html": [
       "<pre style=\"white-space:pre;overflow-x:auto;line-height:normal;font-family:Menlo,'DejaVu Sans Mono',consolas,'Courier New',monospace\">Sample <span style=\"font-weight: bold\">[</span><span style=\"color: #008080; text-decoration-color: #008080; font-weight: bold\">3</span>/<span style=\"color: #008080; text-decoration-color: #008080; font-weight: bold\">4</span><span style=\"font-weight: bold\">]</span>, Loss: <span style=\"color: #008080; text-decoration-color: #008080; font-weight: bold\">3530.1692</span>\n",
       "</pre>\n"
      ],
      "text/plain": [
       "Sample \u001b[1m[\u001b[0m\u001b[1;36m3\u001b[0m/\u001b[1;36m4\u001b[0m\u001b[1m]\u001b[0m, Loss: \u001b[1;36m3530.1692\u001b[0m\n"
      ]
     },
     "metadata": {},
     "output_type": "display_data"
    },
    {
     "data": {
      "text/html": [
       "<pre style=\"white-space:pre;overflow-x:auto;line-height:normal;font-family:Menlo,'DejaVu Sans Mono',consolas,'Courier New',monospace\">Sample <span style=\"font-weight: bold\">[</span><span style=\"color: #008080; text-decoration-color: #008080; font-weight: bold\">4</span>/<span style=\"color: #008080; text-decoration-color: #008080; font-weight: bold\">4</span><span style=\"font-weight: bold\">]</span>, Loss: <span style=\"color: #008080; text-decoration-color: #008080; font-weight: bold\">2638.9443</span>\n",
       "</pre>\n"
      ],
      "text/plain": [
       "Sample \u001b[1m[\u001b[0m\u001b[1;36m4\u001b[0m/\u001b[1;36m4\u001b[0m\u001b[1m]\u001b[0m, Loss: \u001b[1;36m2638.9443\u001b[0m\n"
      ]
     },
     "metadata": {},
     "output_type": "display_data"
    },
    {
     "data": {
      "text/html": [
       "<pre style=\"white-space:pre;overflow-x:auto;line-height:normal;font-family:Menlo,'DejaVu Sans Mono',consolas,'Courier New',monospace\">Epoch <span style=\"font-weight: bold\">[</span><span style=\"color: #008080; text-decoration-color: #008080; font-weight: bold\">2</span>/<span style=\"color: #008080; text-decoration-color: #008080; font-weight: bold\">10</span><span style=\"font-weight: bold\">]</span>, Average Loss: <span style=\"color: #008080; text-decoration-color: #008080; font-weight: bold\">3230.4272</span>\n",
       "</pre>\n"
      ],
      "text/plain": [
       "Epoch \u001b[1m[\u001b[0m\u001b[1;36m2\u001b[0m/\u001b[1;36m10\u001b[0m\u001b[1m]\u001b[0m, Average Loss: \u001b[1;36m3230.4272\u001b[0m\n"
      ]
     },
     "metadata": {},
     "output_type": "display_data"
    },
    {
     "data": {
      "text/html": [
       "<pre style=\"white-space:pre;overflow-x:auto;line-height:normal;font-family:Menlo,'DejaVu Sans Mono',consolas,'Courier New',monospace\">Sample <span style=\"font-weight: bold\">[</span><span style=\"color: #008080; text-decoration-color: #008080; font-weight: bold\">1</span>/<span style=\"color: #008080; text-decoration-color: #008080; font-weight: bold\">4</span><span style=\"font-weight: bold\">]</span>, Loss: <span style=\"color: #008080; text-decoration-color: #008080; font-weight: bold\">3298.2471</span>\n",
       "</pre>\n"
      ],
      "text/plain": [
       "Sample \u001b[1m[\u001b[0m\u001b[1;36m1\u001b[0m/\u001b[1;36m4\u001b[0m\u001b[1m]\u001b[0m, Loss: \u001b[1;36m3298.2471\u001b[0m\n"
      ]
     },
     "metadata": {},
     "output_type": "display_data"
    },
    {
     "data": {
      "text/html": [
       "<pre style=\"white-space:pre;overflow-x:auto;line-height:normal;font-family:Menlo,'DejaVu Sans Mono',consolas,'Courier New',monospace\">Sample <span style=\"font-weight: bold\">[</span><span style=\"color: #008080; text-decoration-color: #008080; font-weight: bold\">2</span>/<span style=\"color: #008080; text-decoration-color: #008080; font-weight: bold\">4</span><span style=\"font-weight: bold\">]</span>, Loss: <span style=\"color: #008080; text-decoration-color: #008080; font-weight: bold\">3065.1931</span>\n",
       "</pre>\n"
      ],
      "text/plain": [
       "Sample \u001b[1m[\u001b[0m\u001b[1;36m2\u001b[0m/\u001b[1;36m4\u001b[0m\u001b[1m]\u001b[0m, Loss: \u001b[1;36m3065.1931\u001b[0m\n"
      ]
     },
     "metadata": {},
     "output_type": "display_data"
    },
    {
     "data": {
      "text/html": [
       "<pre style=\"white-space:pre;overflow-x:auto;line-height:normal;font-family:Menlo,'DejaVu Sans Mono',consolas,'Courier New',monospace\">Sample <span style=\"font-weight: bold\">[</span><span style=\"color: #008080; text-decoration-color: #008080; font-weight: bold\">3</span>/<span style=\"color: #008080; text-decoration-color: #008080; font-weight: bold\">4</span><span style=\"font-weight: bold\">]</span>, Loss: <span style=\"color: #008080; text-decoration-color: #008080; font-weight: bold\">3299.5674</span>\n",
       "</pre>\n"
      ],
      "text/plain": [
       "Sample \u001b[1m[\u001b[0m\u001b[1;36m3\u001b[0m/\u001b[1;36m4\u001b[0m\u001b[1m]\u001b[0m, Loss: \u001b[1;36m3299.5674\u001b[0m\n"
      ]
     },
     "metadata": {},
     "output_type": "display_data"
    },
    {
     "data": {
      "text/html": [
       "<pre style=\"white-space:pre;overflow-x:auto;line-height:normal;font-family:Menlo,'DejaVu Sans Mono',consolas,'Courier New',monospace\">Sample <span style=\"font-weight: bold\">[</span><span style=\"color: #008080; text-decoration-color: #008080; font-weight: bold\">4</span>/<span style=\"color: #008080; text-decoration-color: #008080; font-weight: bold\">4</span><span style=\"font-weight: bold\">]</span>, Loss: <span style=\"color: #008080; text-decoration-color: #008080; font-weight: bold\">2375.6802</span>\n",
       "</pre>\n"
      ],
      "text/plain": [
       "Sample \u001b[1m[\u001b[0m\u001b[1;36m4\u001b[0m/\u001b[1;36m4\u001b[0m\u001b[1m]\u001b[0m, Loss: \u001b[1;36m2375.6802\u001b[0m\n"
      ]
     },
     "metadata": {},
     "output_type": "display_data"
    },
    {
     "data": {
      "text/html": [
       "<pre style=\"white-space:pre;overflow-x:auto;line-height:normal;font-family:Menlo,'DejaVu Sans Mono',consolas,'Courier New',monospace\">Epoch <span style=\"font-weight: bold\">[</span><span style=\"color: #008080; text-decoration-color: #008080; font-weight: bold\">3</span>/<span style=\"color: #008080; text-decoration-color: #008080; font-weight: bold\">10</span><span style=\"font-weight: bold\">]</span>, Average Loss: <span style=\"color: #008080; text-decoration-color: #008080; font-weight: bold\">3009.6719</span>\n",
       "</pre>\n"
      ],
      "text/plain": [
       "Epoch \u001b[1m[\u001b[0m\u001b[1;36m3\u001b[0m/\u001b[1;36m10\u001b[0m\u001b[1m]\u001b[0m, Average Loss: \u001b[1;36m3009.6719\u001b[0m\n"
      ]
     },
     "metadata": {},
     "output_type": "display_data"
    },
    {
     "data": {
      "text/html": [
       "<pre style=\"white-space:pre;overflow-x:auto;line-height:normal;font-family:Menlo,'DejaVu Sans Mono',consolas,'Courier New',monospace\">Sample <span style=\"font-weight: bold\">[</span><span style=\"color: #008080; text-decoration-color: #008080; font-weight: bold\">1</span>/<span style=\"color: #008080; text-decoration-color: #008080; font-weight: bold\">4</span><span style=\"font-weight: bold\">]</span>, Loss: <span style=\"color: #008080; text-decoration-color: #008080; font-weight: bold\">2959.6223</span>\n",
       "</pre>\n"
      ],
      "text/plain": [
       "Sample \u001b[1m[\u001b[0m\u001b[1;36m1\u001b[0m/\u001b[1;36m4\u001b[0m\u001b[1m]\u001b[0m, Loss: \u001b[1;36m2959.6223\u001b[0m\n"
      ]
     },
     "metadata": {},
     "output_type": "display_data"
    },
    {
     "data": {
      "text/html": [
       "<pre style=\"white-space:pre;overflow-x:auto;line-height:normal;font-family:Menlo,'DejaVu Sans Mono',consolas,'Courier New',monospace\">Sample <span style=\"font-weight: bold\">[</span><span style=\"color: #008080; text-decoration-color: #008080; font-weight: bold\">2</span>/<span style=\"color: #008080; text-decoration-color: #008080; font-weight: bold\">4</span><span style=\"font-weight: bold\">]</span>, Loss: <span style=\"color: #008080; text-decoration-color: #008080; font-weight: bold\">2724.6138</span>\n",
       "</pre>\n"
      ],
      "text/plain": [
       "Sample \u001b[1m[\u001b[0m\u001b[1;36m2\u001b[0m/\u001b[1;36m4\u001b[0m\u001b[1m]\u001b[0m, Loss: \u001b[1;36m2724.6138\u001b[0m\n"
      ]
     },
     "metadata": {},
     "output_type": "display_data"
    },
    {
     "data": {
      "text/html": [
       "<pre style=\"white-space:pre;overflow-x:auto;line-height:normal;font-family:Menlo,'DejaVu Sans Mono',consolas,'Courier New',monospace\">Sample <span style=\"font-weight: bold\">[</span><span style=\"color: #008080; text-decoration-color: #008080; font-weight: bold\">3</span>/<span style=\"color: #008080; text-decoration-color: #008080; font-weight: bold\">4</span><span style=\"font-weight: bold\">]</span>, Loss: <span style=\"color: #008080; text-decoration-color: #008080; font-weight: bold\">2909.1145</span>\n",
       "</pre>\n"
      ],
      "text/plain": [
       "Sample \u001b[1m[\u001b[0m\u001b[1;36m3\u001b[0m/\u001b[1;36m4\u001b[0m\u001b[1m]\u001b[0m, Loss: \u001b[1;36m2909.1145\u001b[0m\n"
      ]
     },
     "metadata": {},
     "output_type": "display_data"
    },
    {
     "data": {
      "text/html": [
       "<pre style=\"white-space:pre;overflow-x:auto;line-height:normal;font-family:Menlo,'DejaVu Sans Mono',consolas,'Courier New',monospace\">Sample <span style=\"font-weight: bold\">[</span><span style=\"color: #008080; text-decoration-color: #008080; font-weight: bold\">4</span>/<span style=\"color: #008080; text-decoration-color: #008080; font-weight: bold\">4</span><span style=\"font-weight: bold\">]</span>, Loss: <span style=\"color: #008080; text-decoration-color: #008080; font-weight: bold\">1952.5491</span>\n",
       "</pre>\n"
      ],
      "text/plain": [
       "Sample \u001b[1m[\u001b[0m\u001b[1;36m4\u001b[0m/\u001b[1;36m4\u001b[0m\u001b[1m]\u001b[0m, Loss: \u001b[1;36m1952.5491\u001b[0m\n"
      ]
     },
     "metadata": {},
     "output_type": "display_data"
    },
    {
     "data": {
      "text/html": [
       "<pre style=\"white-space:pre;overflow-x:auto;line-height:normal;font-family:Menlo,'DejaVu Sans Mono',consolas,'Courier New',monospace\">Epoch <span style=\"font-weight: bold\">[</span><span style=\"color: #008080; text-decoration-color: #008080; font-weight: bold\">4</span>/<span style=\"color: #008080; text-decoration-color: #008080; font-weight: bold\">10</span><span style=\"font-weight: bold\">]</span>, Average Loss: <span style=\"color: #008080; text-decoration-color: #008080; font-weight: bold\">2636.4749</span>\n",
       "</pre>\n"
      ],
      "text/plain": [
       "Epoch \u001b[1m[\u001b[0m\u001b[1;36m4\u001b[0m/\u001b[1;36m10\u001b[0m\u001b[1m]\u001b[0m, Average Loss: \u001b[1;36m2636.4749\u001b[0m\n"
      ]
     },
     "metadata": {},
     "output_type": "display_data"
    },
    {
     "data": {
      "text/html": [
       "<pre style=\"white-space:pre;overflow-x:auto;line-height:normal;font-family:Menlo,'DejaVu Sans Mono',consolas,'Courier New',monospace\">Sample <span style=\"font-weight: bold\">[</span><span style=\"color: #008080; text-decoration-color: #008080; font-weight: bold\">1</span>/<span style=\"color: #008080; text-decoration-color: #008080; font-weight: bold\">4</span><span style=\"font-weight: bold\">]</span>, Loss: <span style=\"color: #008080; text-decoration-color: #008080; font-weight: bold\">2447.7881</span>\n",
       "</pre>\n"
      ],
      "text/plain": [
       "Sample \u001b[1m[\u001b[0m\u001b[1;36m1\u001b[0m/\u001b[1;36m4\u001b[0m\u001b[1m]\u001b[0m, Loss: \u001b[1;36m2447.7881\u001b[0m\n"
      ]
     },
     "metadata": {},
     "output_type": "display_data"
    },
    {
     "data": {
      "text/html": [
       "<pre style=\"white-space:pre;overflow-x:auto;line-height:normal;font-family:Menlo,'DejaVu Sans Mono',consolas,'Courier New',monospace\">Sample <span style=\"font-weight: bold\">[</span><span style=\"color: #008080; text-decoration-color: #008080; font-weight: bold\">2</span>/<span style=\"color: #008080; text-decoration-color: #008080; font-weight: bold\">4</span><span style=\"font-weight: bold\">]</span>, Loss: <span style=\"color: #008080; text-decoration-color: #008080; font-weight: bold\">2244.2256</span>\n",
       "</pre>\n"
      ],
      "text/plain": [
       "Sample \u001b[1m[\u001b[0m\u001b[1;36m2\u001b[0m/\u001b[1;36m4\u001b[0m\u001b[1m]\u001b[0m, Loss: \u001b[1;36m2244.2256\u001b[0m\n"
      ]
     },
     "metadata": {},
     "output_type": "display_data"
    },
    {
     "data": {
      "text/html": [
       "<pre style=\"white-space:pre;overflow-x:auto;line-height:normal;font-family:Menlo,'DejaVu Sans Mono',consolas,'Courier New',monospace\">Sample <span style=\"font-weight: bold\">[</span><span style=\"color: #008080; text-decoration-color: #008080; font-weight: bold\">3</span>/<span style=\"color: #008080; text-decoration-color: #008080; font-weight: bold\">4</span><span style=\"font-weight: bold\">]</span>, Loss: <span style=\"color: #008080; text-decoration-color: #008080; font-weight: bold\">2310.0000</span>\n",
       "</pre>\n"
      ],
      "text/plain": [
       "Sample \u001b[1m[\u001b[0m\u001b[1;36m3\u001b[0m/\u001b[1;36m4\u001b[0m\u001b[1m]\u001b[0m, Loss: \u001b[1;36m2310.0000\u001b[0m\n"
      ]
     },
     "metadata": {},
     "output_type": "display_data"
    },
    {
     "data": {
      "text/html": [
       "<pre style=\"white-space:pre;overflow-x:auto;line-height:normal;font-family:Menlo,'DejaVu Sans Mono',consolas,'Courier New',monospace\">Sample <span style=\"font-weight: bold\">[</span><span style=\"color: #008080; text-decoration-color: #008080; font-weight: bold\">4</span>/<span style=\"color: #008080; text-decoration-color: #008080; font-weight: bold\">4</span><span style=\"font-weight: bold\">]</span>, Loss: <span style=\"color: #008080; text-decoration-color: #008080; font-weight: bold\">1389.7758</span>\n",
       "</pre>\n"
      ],
      "text/plain": [
       "Sample \u001b[1m[\u001b[0m\u001b[1;36m4\u001b[0m/\u001b[1;36m4\u001b[0m\u001b[1m]\u001b[0m, Loss: \u001b[1;36m1389.7758\u001b[0m\n"
      ]
     },
     "metadata": {},
     "output_type": "display_data"
    },
    {
     "data": {
      "text/html": [
       "<pre style=\"white-space:pre;overflow-x:auto;line-height:normal;font-family:Menlo,'DejaVu Sans Mono',consolas,'Courier New',monospace\">Epoch <span style=\"font-weight: bold\">[</span><span style=\"color: #008080; text-decoration-color: #008080; font-weight: bold\">5</span>/<span style=\"color: #008080; text-decoration-color: #008080; font-weight: bold\">10</span><span style=\"font-weight: bold\">]</span>, Average Loss: <span style=\"color: #008080; text-decoration-color: #008080; font-weight: bold\">2097.9474</span>\n",
       "</pre>\n"
      ],
      "text/plain": [
       "Epoch \u001b[1m[\u001b[0m\u001b[1;36m5\u001b[0m/\u001b[1;36m10\u001b[0m\u001b[1m]\u001b[0m, Average Loss: \u001b[1;36m2097.9474\u001b[0m\n"
      ]
     },
     "metadata": {},
     "output_type": "display_data"
    },
    {
     "data": {
      "text/html": [
       "<pre style=\"white-space:pre;overflow-x:auto;line-height:normal;font-family:Menlo,'DejaVu Sans Mono',consolas,'Courier New',monospace\">Sample <span style=\"font-weight: bold\">[</span><span style=\"color: #008080; text-decoration-color: #008080; font-weight: bold\">1</span>/<span style=\"color: #008080; text-decoration-color: #008080; font-weight: bold\">4</span><span style=\"font-weight: bold\">]</span>, Loss: <span style=\"color: #008080; text-decoration-color: #008080; font-weight: bold\">1764.9120</span>\n",
       "</pre>\n"
      ],
      "text/plain": [
       "Sample \u001b[1m[\u001b[0m\u001b[1;36m1\u001b[0m/\u001b[1;36m4\u001b[0m\u001b[1m]\u001b[0m, Loss: \u001b[1;36m1764.9120\u001b[0m\n"
      ]
     },
     "metadata": {},
     "output_type": "display_data"
    },
    {
     "data": {
      "text/html": [
       "<pre style=\"white-space:pre;overflow-x:auto;line-height:normal;font-family:Menlo,'DejaVu Sans Mono',consolas,'Courier New',monospace\">Sample <span style=\"font-weight: bold\">[</span><span style=\"color: #008080; text-decoration-color: #008080; font-weight: bold\">2</span>/<span style=\"color: #008080; text-decoration-color: #008080; font-weight: bold\">4</span><span style=\"font-weight: bold\">]</span>, Loss: <span style=\"color: #008080; text-decoration-color: #008080; font-weight: bold\">1610.0283</span>\n",
       "</pre>\n"
      ],
      "text/plain": [
       "Sample \u001b[1m[\u001b[0m\u001b[1;36m2\u001b[0m/\u001b[1;36m4\u001b[0m\u001b[1m]\u001b[0m, Loss: \u001b[1;36m1610.0283\u001b[0m\n"
      ]
     },
     "metadata": {},
     "output_type": "display_data"
    },
    {
     "data": {
      "text/html": [
       "<pre style=\"white-space:pre;overflow-x:auto;line-height:normal;font-family:Menlo,'DejaVu Sans Mono',consolas,'Courier New',monospace\">Sample <span style=\"font-weight: bold\">[</span><span style=\"color: #008080; text-decoration-color: #008080; font-weight: bold\">3</span>/<span style=\"color: #008080; text-decoration-color: #008080; font-weight: bold\">4</span><span style=\"font-weight: bold\">]</span>, Loss: <span style=\"color: #008080; text-decoration-color: #008080; font-weight: bold\">1609.9969</span>\n",
       "</pre>\n"
      ],
      "text/plain": [
       "Sample \u001b[1m[\u001b[0m\u001b[1;36m3\u001b[0m/\u001b[1;36m4\u001b[0m\u001b[1m]\u001b[0m, Loss: \u001b[1;36m1609.9969\u001b[0m\n"
      ]
     },
     "metadata": {},
     "output_type": "display_data"
    },
    {
     "data": {
      "text/html": [
       "<pre style=\"white-space:pre;overflow-x:auto;line-height:normal;font-family:Menlo,'DejaVu Sans Mono',consolas,'Courier New',monospace\">Sample <span style=\"font-weight: bold\">[</span><span style=\"color: #008080; text-decoration-color: #008080; font-weight: bold\">4</span>/<span style=\"color: #008080; text-decoration-color: #008080; font-weight: bold\">4</span><span style=\"font-weight: bold\">]</span>, Loss: <span style=\"color: #008080; text-decoration-color: #008080; font-weight: bold\">790.3736</span>\n",
       "</pre>\n"
      ],
      "text/plain": [
       "Sample \u001b[1m[\u001b[0m\u001b[1;36m4\u001b[0m/\u001b[1;36m4\u001b[0m\u001b[1m]\u001b[0m, Loss: \u001b[1;36m790.3736\u001b[0m\n"
      ]
     },
     "metadata": {},
     "output_type": "display_data"
    },
    {
     "data": {
      "text/html": [
       "<pre style=\"white-space:pre;overflow-x:auto;line-height:normal;font-family:Menlo,'DejaVu Sans Mono',consolas,'Courier New',monospace\">Epoch <span style=\"font-weight: bold\">[</span><span style=\"color: #008080; text-decoration-color: #008080; font-weight: bold\">6</span>/<span style=\"color: #008080; text-decoration-color: #008080; font-weight: bold\">10</span><span style=\"font-weight: bold\">]</span>, Average Loss: <span style=\"color: #008080; text-decoration-color: #008080; font-weight: bold\">1443.8277</span>\n",
       "</pre>\n"
      ],
      "text/plain": [
       "Epoch \u001b[1m[\u001b[0m\u001b[1;36m6\u001b[0m/\u001b[1;36m10\u001b[0m\u001b[1m]\u001b[0m, Average Loss: \u001b[1;36m1443.8277\u001b[0m\n"
      ]
     },
     "metadata": {},
     "output_type": "display_data"
    },
    {
     "data": {
      "text/html": [
       "<pre style=\"white-space:pre;overflow-x:auto;line-height:normal;font-family:Menlo,'DejaVu Sans Mono',consolas,'Courier New',monospace\">Sample <span style=\"font-weight: bold\">[</span><span style=\"color: #008080; text-decoration-color: #008080; font-weight: bold\">1</span>/<span style=\"color: #008080; text-decoration-color: #008080; font-weight: bold\">4</span><span style=\"font-weight: bold\">]</span>, Loss: <span style=\"color: #008080; text-decoration-color: #008080; font-weight: bold\">1038.8856</span>\n",
       "</pre>\n"
      ],
      "text/plain": [
       "Sample \u001b[1m[\u001b[0m\u001b[1;36m1\u001b[0m/\u001b[1;36m4\u001b[0m\u001b[1m]\u001b[0m, Loss: \u001b[1;36m1038.8856\u001b[0m\n"
      ]
     },
     "metadata": {},
     "output_type": "display_data"
    },
    {
     "data": {
      "text/html": [
       "<pre style=\"white-space:pre;overflow-x:auto;line-height:normal;font-family:Menlo,'DejaVu Sans Mono',consolas,'Courier New',monospace\">Sample <span style=\"font-weight: bold\">[</span><span style=\"color: #008080; text-decoration-color: #008080; font-weight: bold\">2</span>/<span style=\"color: #008080; text-decoration-color: #008080; font-weight: bold\">4</span><span style=\"font-weight: bold\">]</span>, Loss: <span style=\"color: #008080; text-decoration-color: #008080; font-weight: bold\">1098.9155</span>\n",
       "</pre>\n"
      ],
      "text/plain": [
       "Sample \u001b[1m[\u001b[0m\u001b[1;36m2\u001b[0m/\u001b[1;36m4\u001b[0m\u001b[1m]\u001b[0m, Loss: \u001b[1;36m1098.9155\u001b[0m\n"
      ]
     },
     "metadata": {},
     "output_type": "display_data"
    },
    {
     "data": {
      "text/html": [
       "<pre style=\"white-space:pre;overflow-x:auto;line-height:normal;font-family:Menlo,'DejaVu Sans Mono',consolas,'Courier New',monospace\">Sample <span style=\"font-weight: bold\">[</span><span style=\"color: #008080; text-decoration-color: #008080; font-weight: bold\">3</span>/<span style=\"color: #008080; text-decoration-color: #008080; font-weight: bold\">4</span><span style=\"font-weight: bold\">]</span>, Loss: <span style=\"color: #008080; text-decoration-color: #008080; font-weight: bold\">992.9016</span>\n",
       "</pre>\n"
      ],
      "text/plain": [
       "Sample \u001b[1m[\u001b[0m\u001b[1;36m3\u001b[0m/\u001b[1;36m4\u001b[0m\u001b[1m]\u001b[0m, Loss: \u001b[1;36m992.9016\u001b[0m\n"
      ]
     },
     "metadata": {},
     "output_type": "display_data"
    },
    {
     "data": {
      "text/html": [
       "<pre style=\"white-space:pre;overflow-x:auto;line-height:normal;font-family:Menlo,'DejaVu Sans Mono',consolas,'Courier New',monospace\">Sample <span style=\"font-weight: bold\">[</span><span style=\"color: #008080; text-decoration-color: #008080; font-weight: bold\">4</span>/<span style=\"color: #008080; text-decoration-color: #008080; font-weight: bold\">4</span><span style=\"font-weight: bold\">]</span>, Loss: <span style=\"color: #008080; text-decoration-color: #008080; font-weight: bold\">486.3061</span>\n",
       "</pre>\n"
      ],
      "text/plain": [
       "Sample \u001b[1m[\u001b[0m\u001b[1;36m4\u001b[0m/\u001b[1;36m4\u001b[0m\u001b[1m]\u001b[0m, Loss: \u001b[1;36m486.3061\u001b[0m\n"
      ]
     },
     "metadata": {},
     "output_type": "display_data"
    },
    {
     "data": {
      "text/html": [
       "<pre style=\"white-space:pre;overflow-x:auto;line-height:normal;font-family:Menlo,'DejaVu Sans Mono',consolas,'Courier New',monospace\">Epoch <span style=\"font-weight: bold\">[</span><span style=\"color: #008080; text-decoration-color: #008080; font-weight: bold\">7</span>/<span style=\"color: #008080; text-decoration-color: #008080; font-weight: bold\">10</span><span style=\"font-weight: bold\">]</span>, Average Loss: <span style=\"color: #008080; text-decoration-color: #008080; font-weight: bold\">904.2522</span>\n",
       "</pre>\n"
      ],
      "text/plain": [
       "Epoch \u001b[1m[\u001b[0m\u001b[1;36m7\u001b[0m/\u001b[1;36m10\u001b[0m\u001b[1m]\u001b[0m, Average Loss: \u001b[1;36m904.2522\u001b[0m\n"
      ]
     },
     "metadata": {},
     "output_type": "display_data"
    },
    {
     "data": {
      "text/html": [
       "<pre style=\"white-space:pre;overflow-x:auto;line-height:normal;font-family:Menlo,'DejaVu Sans Mono',consolas,'Courier New',monospace\">Sample <span style=\"font-weight: bold\">[</span><span style=\"color: #008080; text-decoration-color: #008080; font-weight: bold\">1</span>/<span style=\"color: #008080; text-decoration-color: #008080; font-weight: bold\">4</span><span style=\"font-weight: bold\">]</span>, Loss: <span style=\"color: #008080; text-decoration-color: #008080; font-weight: bold\">632.0829</span>\n",
       "</pre>\n"
      ],
      "text/plain": [
       "Sample \u001b[1m[\u001b[0m\u001b[1;36m1\u001b[0m/\u001b[1;36m4\u001b[0m\u001b[1m]\u001b[0m, Loss: \u001b[1;36m632.0829\u001b[0m\n"
      ]
     },
     "metadata": {},
     "output_type": "display_data"
    },
    {
     "data": {
      "text/html": [
       "<pre style=\"white-space:pre;overflow-x:auto;line-height:normal;font-family:Menlo,'DejaVu Sans Mono',consolas,'Courier New',monospace\">Sample <span style=\"font-weight: bold\">[</span><span style=\"color: #008080; text-decoration-color: #008080; font-weight: bold\">2</span>/<span style=\"color: #008080; text-decoration-color: #008080; font-weight: bold\">4</span><span style=\"font-weight: bold\">]</span>, Loss: <span style=\"color: #008080; text-decoration-color: #008080; font-weight: bold\">977.4310</span>\n",
       "</pre>\n"
      ],
      "text/plain": [
       "Sample \u001b[1m[\u001b[0m\u001b[1;36m2\u001b[0m/\u001b[1;36m4\u001b[0m\u001b[1m]\u001b[0m, Loss: \u001b[1;36m977.4310\u001b[0m\n"
      ]
     },
     "metadata": {},
     "output_type": "display_data"
    },
    {
     "data": {
      "text/html": [
       "<pre style=\"white-space:pre;overflow-x:auto;line-height:normal;font-family:Menlo,'DejaVu Sans Mono',consolas,'Courier New',monospace\">Sample <span style=\"font-weight: bold\">[</span><span style=\"color: #008080; text-decoration-color: #008080; font-weight: bold\">3</span>/<span style=\"color: #008080; text-decoration-color: #008080; font-weight: bold\">4</span><span style=\"font-weight: bold\">]</span>, Loss: <span style=\"color: #008080; text-decoration-color: #008080; font-weight: bold\">718.1453</span>\n",
       "</pre>\n"
      ],
      "text/plain": [
       "Sample \u001b[1m[\u001b[0m\u001b[1;36m3\u001b[0m/\u001b[1;36m4\u001b[0m\u001b[1m]\u001b[0m, Loss: \u001b[1;36m718.1453\u001b[0m\n"
      ]
     },
     "metadata": {},
     "output_type": "display_data"
    },
    {
     "data": {
      "text/html": [
       "<pre style=\"white-space:pre;overflow-x:auto;line-height:normal;font-family:Menlo,'DejaVu Sans Mono',consolas,'Courier New',monospace\">Sample <span style=\"font-weight: bold\">[</span><span style=\"color: #008080; text-decoration-color: #008080; font-weight: bold\">4</span>/<span style=\"color: #008080; text-decoration-color: #008080; font-weight: bold\">4</span><span style=\"font-weight: bold\">]</span>, Loss: <span style=\"color: #008080; text-decoration-color: #008080; font-weight: bold\">641.7507</span>\n",
       "</pre>\n"
      ],
      "text/plain": [
       "Sample \u001b[1m[\u001b[0m\u001b[1;36m4\u001b[0m/\u001b[1;36m4\u001b[0m\u001b[1m]\u001b[0m, Loss: \u001b[1;36m641.7507\u001b[0m\n"
      ]
     },
     "metadata": {},
     "output_type": "display_data"
    },
    {
     "data": {
      "text/html": [
       "<pre style=\"white-space:pre;overflow-x:auto;line-height:normal;font-family:Menlo,'DejaVu Sans Mono',consolas,'Courier New',monospace\">Epoch <span style=\"font-weight: bold\">[</span><span style=\"color: #008080; text-decoration-color: #008080; font-weight: bold\">8</span>/<span style=\"color: #008080; text-decoration-color: #008080; font-weight: bold\">10</span><span style=\"font-weight: bold\">]</span>, Average Loss: <span style=\"color: #008080; text-decoration-color: #008080; font-weight: bold\">742.3525</span>\n",
       "</pre>\n"
      ],
      "text/plain": [
       "Epoch \u001b[1m[\u001b[0m\u001b[1;36m8\u001b[0m/\u001b[1;36m10\u001b[0m\u001b[1m]\u001b[0m, Average Loss: \u001b[1;36m742.3525\u001b[0m\n"
      ]
     },
     "metadata": {},
     "output_type": "display_data"
    },
    {
     "data": {
      "text/html": [
       "<pre style=\"white-space:pre;overflow-x:auto;line-height:normal;font-family:Menlo,'DejaVu Sans Mono',consolas,'Courier New',monospace\">Sample <span style=\"font-weight: bold\">[</span><span style=\"color: #008080; text-decoration-color: #008080; font-weight: bold\">1</span>/<span style=\"color: #008080; text-decoration-color: #008080; font-weight: bold\">4</span><span style=\"font-weight: bold\">]</span>, Loss: <span style=\"color: #008080; text-decoration-color: #008080; font-weight: bold\">663.2079</span>\n",
       "</pre>\n"
      ],
      "text/plain": [
       "Sample \u001b[1m[\u001b[0m\u001b[1;36m1\u001b[0m/\u001b[1;36m4\u001b[0m\u001b[1m]\u001b[0m, Loss: \u001b[1;36m663.2079\u001b[0m\n"
      ]
     },
     "metadata": {},
     "output_type": "display_data"
    },
    {
     "data": {
      "text/html": [
       "<pre style=\"white-space:pre;overflow-x:auto;line-height:normal;font-family:Menlo,'DejaVu Sans Mono',consolas,'Courier New',monospace\">Sample <span style=\"font-weight: bold\">[</span><span style=\"color: #008080; text-decoration-color: #008080; font-weight: bold\">2</span>/<span style=\"color: #008080; text-decoration-color: #008080; font-weight: bold\">4</span><span style=\"font-weight: bold\">]</span>, Loss: <span style=\"color: #008080; text-decoration-color: #008080; font-weight: bold\">1121.5974</span>\n",
       "</pre>\n"
      ],
      "text/plain": [
       "Sample \u001b[1m[\u001b[0m\u001b[1;36m2\u001b[0m/\u001b[1;36m4\u001b[0m\u001b[1m]\u001b[0m, Loss: \u001b[1;36m1121.5974\u001b[0m\n"
      ]
     },
     "metadata": {},
     "output_type": "display_data"
    },
    {
     "data": {
      "text/html": [
       "<pre style=\"white-space:pre;overflow-x:auto;line-height:normal;font-family:Menlo,'DejaVu Sans Mono',consolas,'Courier New',monospace\">Sample <span style=\"font-weight: bold\">[</span><span style=\"color: #008080; text-decoration-color: #008080; font-weight: bold\">3</span>/<span style=\"color: #008080; text-decoration-color: #008080; font-weight: bold\">4</span><span style=\"font-weight: bold\">]</span>, Loss: <span style=\"color: #008080; text-decoration-color: #008080; font-weight: bold\">690.1251</span>\n",
       "</pre>\n"
      ],
      "text/plain": [
       "Sample \u001b[1m[\u001b[0m\u001b[1;36m3\u001b[0m/\u001b[1;36m4\u001b[0m\u001b[1m]\u001b[0m, Loss: \u001b[1;36m690.1251\u001b[0m\n"
      ]
     },
     "metadata": {},
     "output_type": "display_data"
    },
    {
     "data": {
      "text/html": [
       "<pre style=\"white-space:pre;overflow-x:auto;line-height:normal;font-family:Menlo,'DejaVu Sans Mono',consolas,'Courier New',monospace\">Sample <span style=\"font-weight: bold\">[</span><span style=\"color: #008080; text-decoration-color: #008080; font-weight: bold\">4</span>/<span style=\"color: #008080; text-decoration-color: #008080; font-weight: bold\">4</span><span style=\"font-weight: bold\">]</span>, Loss: <span style=\"color: #008080; text-decoration-color: #008080; font-weight: bold\">850.5248</span>\n",
       "</pre>\n"
      ],
      "text/plain": [
       "Sample \u001b[1m[\u001b[0m\u001b[1;36m4\u001b[0m/\u001b[1;36m4\u001b[0m\u001b[1m]\u001b[0m, Loss: \u001b[1;36m850.5248\u001b[0m\n"
      ]
     },
     "metadata": {},
     "output_type": "display_data"
    },
    {
     "data": {
      "text/html": [
       "<pre style=\"white-space:pre;overflow-x:auto;line-height:normal;font-family:Menlo,'DejaVu Sans Mono',consolas,'Courier New',monospace\">Epoch <span style=\"font-weight: bold\">[</span><span style=\"color: #008080; text-decoration-color: #008080; font-weight: bold\">9</span>/<span style=\"color: #008080; text-decoration-color: #008080; font-weight: bold\">10</span><span style=\"font-weight: bold\">]</span>, Average Loss: <span style=\"color: #008080; text-decoration-color: #008080; font-weight: bold\">831.3638</span>\n",
       "</pre>\n"
      ],
      "text/plain": [
       "Epoch \u001b[1m[\u001b[0m\u001b[1;36m9\u001b[0m/\u001b[1;36m10\u001b[0m\u001b[1m]\u001b[0m, Average Loss: \u001b[1;36m831.3638\u001b[0m\n"
      ]
     },
     "metadata": {},
     "output_type": "display_data"
    },
    {
     "data": {
      "text/html": [
       "<pre style=\"white-space:pre;overflow-x:auto;line-height:normal;font-family:Menlo,'DejaVu Sans Mono',consolas,'Courier New',monospace\">Sample <span style=\"font-weight: bold\">[</span><span style=\"color: #008080; text-decoration-color: #008080; font-weight: bold\">1</span>/<span style=\"color: #008080; text-decoration-color: #008080; font-weight: bold\">4</span><span style=\"font-weight: bold\">]</span>, Loss: <span style=\"color: #008080; text-decoration-color: #008080; font-weight: bold\">669.8098</span>\n",
       "</pre>\n"
      ],
      "text/plain": [
       "Sample \u001b[1m[\u001b[0m\u001b[1;36m1\u001b[0m/\u001b[1;36m4\u001b[0m\u001b[1m]\u001b[0m, Loss: \u001b[1;36m669.8098\u001b[0m\n"
      ]
     },
     "metadata": {},
     "output_type": "display_data"
    },
    {
     "data": {
      "text/html": [
       "<pre style=\"white-space:pre;overflow-x:auto;line-height:normal;font-family:Menlo,'DejaVu Sans Mono',consolas,'Courier New',monospace\">Sample <span style=\"font-weight: bold\">[</span><span style=\"color: #008080; text-decoration-color: #008080; font-weight: bold\">2</span>/<span style=\"color: #008080; text-decoration-color: #008080; font-weight: bold\">4</span><span style=\"font-weight: bold\">]</span>, Loss: <span style=\"color: #008080; text-decoration-color: #008080; font-weight: bold\">1000.1317</span>\n",
       "</pre>\n"
      ],
      "text/plain": [
       "Sample \u001b[1m[\u001b[0m\u001b[1;36m2\u001b[0m/\u001b[1;36m4\u001b[0m\u001b[1m]\u001b[0m, Loss: \u001b[1;36m1000.1317\u001b[0m\n"
      ]
     },
     "metadata": {},
     "output_type": "display_data"
    },
    {
     "data": {
      "text/html": [
       "<pre style=\"white-space:pre;overflow-x:auto;line-height:normal;font-family:Menlo,'DejaVu Sans Mono',consolas,'Courier New',monospace\">Sample <span style=\"font-weight: bold\">[</span><span style=\"color: #008080; text-decoration-color: #008080; font-weight: bold\">3</span>/<span style=\"color: #008080; text-decoration-color: #008080; font-weight: bold\">4</span><span style=\"font-weight: bold\">]</span>, Loss: <span style=\"color: #008080; text-decoration-color: #008080; font-weight: bold\">611.4904</span>\n",
       "</pre>\n"
      ],
      "text/plain": [
       "Sample \u001b[1m[\u001b[0m\u001b[1;36m3\u001b[0m/\u001b[1;36m4\u001b[0m\u001b[1m]\u001b[0m, Loss: \u001b[1;36m611.4904\u001b[0m\n"
      ]
     },
     "metadata": {},
     "output_type": "display_data"
    },
    {
     "data": {
      "text/html": [
       "<pre style=\"white-space:pre;overflow-x:auto;line-height:normal;font-family:Menlo,'DejaVu Sans Mono',consolas,'Courier New',monospace\">Sample <span style=\"font-weight: bold\">[</span><span style=\"color: #008080; text-decoration-color: #008080; font-weight: bold\">4</span>/<span style=\"color: #008080; text-decoration-color: #008080; font-weight: bold\">4</span><span style=\"font-weight: bold\">]</span>, Loss: <span style=\"color: #008080; text-decoration-color: #008080; font-weight: bold\">737.3745</span>\n",
       "</pre>\n"
      ],
      "text/plain": [
       "Sample \u001b[1m[\u001b[0m\u001b[1;36m4\u001b[0m/\u001b[1;36m4\u001b[0m\u001b[1m]\u001b[0m, Loss: \u001b[1;36m737.3745\u001b[0m\n"
      ]
     },
     "metadata": {},
     "output_type": "display_data"
    },
    {
     "data": {
      "text/html": [
       "<pre style=\"white-space:pre;overflow-x:auto;line-height:normal;font-family:Menlo,'DejaVu Sans Mono',consolas,'Courier New',monospace\">Epoch <span style=\"font-weight: bold\">[</span><span style=\"color: #008080; text-decoration-color: #008080; font-weight: bold\">10</span>/<span style=\"color: #008080; text-decoration-color: #008080; font-weight: bold\">10</span><span style=\"font-weight: bold\">]</span>, Average Loss: <span style=\"color: #008080; text-decoration-color: #008080; font-weight: bold\">754.7016</span>\n",
       "</pre>\n"
      ],
      "text/plain": [
       "Epoch \u001b[1m[\u001b[0m\u001b[1;36m10\u001b[0m/\u001b[1;36m10\u001b[0m\u001b[1m]\u001b[0m, Average Loss: \u001b[1;36m754.7016\u001b[0m\n"
      ]
     },
     "metadata": {},
     "output_type": "display_data"
    }
   ],
   "source": [
    "for epoch in range(10):  # number of epochs\n",
    "    model.train()\n",
    "    running_loss = 0.0\n",
    "    for i, sample in enumerate(local_wind_field_dataset, 1):\n",
    "        lidar, wind_at_robot, winds_y = sample\n",
    "        optimizer.zero_grad()\n",
    "        \n",
    "        # Ensure all tensors have the same dtype\n",
    "        lidar = lidar.float()\n",
    "        wind_at_robot = wind_at_robot.float()\n",
    "        winds_y = winds_y.float()\n",
    "        \n",
    "        outputs = model(torch.cat((lidar, wind_at_robot.flatten()), dim=0))\n",
    "        loss = criterion(outputs, winds_y)\n",
    "        \n",
    "        loss.backward()\n",
    "        optimizer.step()\n",
    "        \n",
    "        running_loss += loss.item()\n",
    "        print(f\"Sample [{i}/{len(local_wind_field_dataset)}], Loss: {loss.item():.4f}\")\n",
    "    \n",
    "    print(f\"Epoch [{epoch+1}/10], Average Loss: {running_loss/len(local_wind_field_dataset):.4f}\")"
   ]
  }
 ],
 "metadata": {
  "kernelspec": {
   "display_name": "Python 3",
   "language": "python",
   "name": "python3"
  },
  "language_info": {
   "codemirror_mode": {
    "name": "ipython",
    "version": 3
   },
   "file_extension": ".py",
   "mimetype": "text/x-python",
   "name": "python",
   "nbconvert_exporter": "python",
   "pygments_lexer": "ipython3",
   "version": "3.11.5"
  }
 },
 "nbformat": 4,
 "nbformat_minor": 2
}
