{
 "cells": [
  {
   "cell_type": "code",
   "execution_count": 1,
   "metadata": {},
   "outputs": [],
   "source": [
    "import os\n",
    "import pandas as pd\n",
    "from torch.utils.data import Dataset, DataLoader\n",
    "import numpy as np\n",
    "import matplotlib.pyplot as plt\n",
    "from rich import print"
   ]
  },
  {
   "cell_type": "code",
   "execution_count": 2,
   "metadata": {},
   "outputs": [],
   "source": [
    "class LocalWindFieldDataset(Dataset):\n",
    "    def __init__(self, csv_file, rect_fol, wind_fol, root_dir=\"\", local=32):\n",
    "        self.main_data = pd.read_csv(os.path.join(root_dir, csv_file))\n",
    "        # generate the local wind field using the local and main_data parameter\n",
    "        self.rect_file_path = os.path.join(root_dir, rect_fol)\n",
    "        self.wind_file_path = os.path.join(root_dir, wind_fol)\n",
    "        \n",
    "    def __len__(self):\n",
    "        return len(self.main_data)\n",
    "    \n",
    "    def __getitem__(self, idx):\n",
    "        data = self.main_data.iloc[idx]\n",
    "        rect_path = os.path.join(self.rect_file_path, str(data[\"index\"]) + \"_r.npy\")\n",
    "        wind_path = os.path.join(self.wind_file_path, str(data[\"index\"]) + \"_m.npy\")\n",
    "        rect = np.load(rect_path)\n",
    "        wind = np.load(wind_path)\n",
    "        lidar = 0\n",
    "        # using data generate lidar scan \n",
    "        return lidar,rect, wind[0][0]   "
   ]
  },
  {
   "cell_type": "code",
   "execution_count": 3,
   "metadata": {},
   "outputs": [],
   "source": [
    "local_wind_field_dataset = LocalWindFieldDataset(csv_file=\"data.csv\",rect_fol = 'rects',wind_fol = 'wind_fields', root_dir = 'data',local=32)"
   ]
  },
  {
   "cell_type": "code",
   "execution_count": 4,
   "metadata": {},
   "outputs": [
    {
     "data": {
      "text/html": [
       "<pre style=\"white-space:pre;overflow-x:auto;line-height:normal;font-family:Menlo,'DejaVu Sans Mono',consolas,'Courier New',monospace\"><span style=\"color: #008080; text-decoration-color: #008080; font-weight: bold\">1</span>: \n",
       " index     <span style=\"color: #008080; text-decoration-color: #008080; font-weight: bold\">1</span>\n",
       "xr       <span style=\"color: #008080; text-decoration-color: #008080; font-weight: bold\">20</span>\n",
       "xy       <span style=\"color: #008080; text-decoration-color: #008080; font-weight: bold\">30</span>\n",
       "Name: <span style=\"color: #008080; text-decoration-color: #008080; font-weight: bold\">0</span>, dtype: int64\n",
       "</pre>\n"
      ],
      "text/plain": [
       "\u001b[1;36m1\u001b[0m: \n",
       " index     \u001b[1;36m1\u001b[0m\n",
       "xr       \u001b[1;36m20\u001b[0m\n",
       "xy       \u001b[1;36m30\u001b[0m\n",
       "Name: \u001b[1;36m0\u001b[0m, dtype: int64\n"
      ]
     },
     "metadata": {},
     "output_type": "display_data"
    },
    {
     "data": {
      "text/html": [
       "<pre style=\"white-space:pre;overflow-x:auto;line-height:normal;font-family:Menlo,'DejaVu Sans Mono',consolas,'Courier New',monospace\">Rectangles - \n",
       " <span style=\"font-weight: bold\">[[[</span>  <span style=\"color: #008080; text-decoration-color: #008080; font-weight: bold\">1</span>   <span style=\"color: #008080; text-decoration-color: #008080; font-weight: bold\">2</span><span style=\"font-weight: bold\">]</span>\n",
       "  <span style=\"font-weight: bold\">[</span>  <span style=\"color: #008080; text-decoration-color: #008080; font-weight: bold\">3</span>   <span style=\"color: #008080; text-decoration-color: #008080; font-weight: bold\">4</span><span style=\"font-weight: bold\">]]</span>\n",
       "\n",
       " <span style=\"font-weight: bold\">[[</span>  <span style=\"color: #008080; text-decoration-color: #008080; font-weight: bold\">5</span>   <span style=\"color: #008080; text-decoration-color: #008080; font-weight: bold\">6</span><span style=\"font-weight: bold\">]</span>\n",
       "  <span style=\"font-weight: bold\">[</span>  <span style=\"color: #008080; text-decoration-color: #008080; font-weight: bold\">1</span>   <span style=\"color: #008080; text-decoration-color: #008080; font-weight: bold\">3</span><span style=\"font-weight: bold\">]]</span>\n",
       "\n",
       " <span style=\"font-weight: bold\">[[</span> <span style=\"color: #008080; text-decoration-color: #008080; font-weight: bold\">10</span> <span style=\"color: #008080; text-decoration-color: #008080; font-weight: bold\">100</span><span style=\"font-weight: bold\">]</span>\n",
       "  <span style=\"font-weight: bold\">[</span> <span style=\"color: #008080; text-decoration-color: #008080; font-weight: bold\">12</span> <span style=\"color: #008080; text-decoration-color: #008080; font-weight: bold\">120</span><span style=\"font-weight: bold\">]]]</span> \n",
       " \n",
       " Wind Fields- \n",
       " <span style=\"font-weight: bold\">[[[</span><span style=\"color: #008080; text-decoration-color: #008080; font-weight: bold\">49</span> <span style=\"color: #008080; text-decoration-color: #008080; font-weight: bold\">10</span><span style=\"font-weight: bold\">]</span>\n",
       "  <span style=\"font-weight: bold\">[</span><span style=\"color: #008080; text-decoration-color: #008080; font-weight: bold\">83</span> <span style=\"color: #008080; text-decoration-color: #008080; font-weight: bold\">95</span><span style=\"font-weight: bold\">]</span>\n",
       "  <span style=\"font-weight: bold\">[</span><span style=\"color: #008080; text-decoration-color: #008080; font-weight: bold\">18</span> <span style=\"color: #008080; text-decoration-color: #008080; font-weight: bold\">71</span><span style=\"font-weight: bold\">]]</span>\n",
       "\n",
       " <span style=\"font-weight: bold\">[[</span><span style=\"color: #008080; text-decoration-color: #008080; font-weight: bold\">26</span> <span style=\"color: #008080; text-decoration-color: #008080; font-weight: bold\">73</span><span style=\"font-weight: bold\">]</span>\n",
       "  <span style=\"font-weight: bold\">[</span><span style=\"color: #008080; text-decoration-color: #008080; font-weight: bold\">18</span>  <span style=\"color: #008080; text-decoration-color: #008080; font-weight: bold\">0</span><span style=\"font-weight: bold\">]</span>\n",
       "  <span style=\"font-weight: bold\">[</span><span style=\"color: #008080; text-decoration-color: #008080; font-weight: bold\">57</span> <span style=\"color: #008080; text-decoration-color: #008080; font-weight: bold\">43</span><span style=\"font-weight: bold\">]]</span>\n",
       "\n",
       " <span style=\"font-weight: bold\">[[</span><span style=\"color: #008080; text-decoration-color: #008080; font-weight: bold\">77</span> <span style=\"color: #008080; text-decoration-color: #008080; font-weight: bold\">90</span><span style=\"font-weight: bold\">]</span>\n",
       "  <span style=\"font-weight: bold\">[</span><span style=\"color: #008080; text-decoration-color: #008080; font-weight: bold\">42</span> <span style=\"color: #008080; text-decoration-color: #008080; font-weight: bold\">90</span><span style=\"font-weight: bold\">]</span>\n",
       "  <span style=\"font-weight: bold\">[</span><span style=\"color: #008080; text-decoration-color: #008080; font-weight: bold\">21</span> <span style=\"color: #008080; text-decoration-color: #008080; font-weight: bold\">79</span><span style=\"font-weight: bold\">]]</span>\n",
       "\n",
       " <span style=\"font-weight: bold\">[[</span><span style=\"color: #008080; text-decoration-color: #008080; font-weight: bold\">79</span> <span style=\"color: #008080; text-decoration-color: #008080; font-weight: bold\">41</span><span style=\"font-weight: bold\">]</span>\n",
       "  <span style=\"font-weight: bold\">[</span><span style=\"color: #008080; text-decoration-color: #008080; font-weight: bold\">17</span> <span style=\"color: #008080; text-decoration-color: #008080; font-weight: bold\">77</span><span style=\"font-weight: bold\">]</span>\n",
       "  <span style=\"font-weight: bold\">[</span><span style=\"color: #008080; text-decoration-color: #008080; font-weight: bold\">15</span> <span style=\"color: #008080; text-decoration-color: #008080; font-weight: bold\">29</span><span style=\"font-weight: bold\">]]]</span>\n",
       "</pre>\n"
      ],
      "text/plain": [
       "Rectangles - \n",
       " \u001b[1m[\u001b[0m\u001b[1m[\u001b[0m\u001b[1m[\u001b[0m  \u001b[1;36m1\u001b[0m   \u001b[1;36m2\u001b[0m\u001b[1m]\u001b[0m\n",
       "  \u001b[1m[\u001b[0m  \u001b[1;36m3\u001b[0m   \u001b[1;36m4\u001b[0m\u001b[1m]\u001b[0m\u001b[1m]\u001b[0m\n",
       "\n",
       " \u001b[1m[\u001b[0m\u001b[1m[\u001b[0m  \u001b[1;36m5\u001b[0m   \u001b[1;36m6\u001b[0m\u001b[1m]\u001b[0m\n",
       "  \u001b[1m[\u001b[0m  \u001b[1;36m1\u001b[0m   \u001b[1;36m3\u001b[0m\u001b[1m]\u001b[0m\u001b[1m]\u001b[0m\n",
       "\n",
       " \u001b[1m[\u001b[0m\u001b[1m[\u001b[0m \u001b[1;36m10\u001b[0m \u001b[1;36m100\u001b[0m\u001b[1m]\u001b[0m\n",
       "  \u001b[1m[\u001b[0m \u001b[1;36m12\u001b[0m \u001b[1;36m120\u001b[0m\u001b[1m]\u001b[0m\u001b[1m]\u001b[0m\u001b[1m]\u001b[0m \n",
       " \n",
       " Wind Fields- \n",
       " \u001b[1m[\u001b[0m\u001b[1m[\u001b[0m\u001b[1m[\u001b[0m\u001b[1;36m49\u001b[0m \u001b[1;36m10\u001b[0m\u001b[1m]\u001b[0m\n",
       "  \u001b[1m[\u001b[0m\u001b[1;36m83\u001b[0m \u001b[1;36m95\u001b[0m\u001b[1m]\u001b[0m\n",
       "  \u001b[1m[\u001b[0m\u001b[1;36m18\u001b[0m \u001b[1;36m71\u001b[0m\u001b[1m]\u001b[0m\u001b[1m]\u001b[0m\n",
       "\n",
       " \u001b[1m[\u001b[0m\u001b[1m[\u001b[0m\u001b[1;36m26\u001b[0m \u001b[1;36m73\u001b[0m\u001b[1m]\u001b[0m\n",
       "  \u001b[1m[\u001b[0m\u001b[1;36m18\u001b[0m  \u001b[1;36m0\u001b[0m\u001b[1m]\u001b[0m\n",
       "  \u001b[1m[\u001b[0m\u001b[1;36m57\u001b[0m \u001b[1;36m43\u001b[0m\u001b[1m]\u001b[0m\u001b[1m]\u001b[0m\n",
       "\n",
       " \u001b[1m[\u001b[0m\u001b[1m[\u001b[0m\u001b[1;36m77\u001b[0m \u001b[1;36m90\u001b[0m\u001b[1m]\u001b[0m\n",
       "  \u001b[1m[\u001b[0m\u001b[1;36m42\u001b[0m \u001b[1;36m90\u001b[0m\u001b[1m]\u001b[0m\n",
       "  \u001b[1m[\u001b[0m\u001b[1;36m21\u001b[0m \u001b[1;36m79\u001b[0m\u001b[1m]\u001b[0m\u001b[1m]\u001b[0m\n",
       "\n",
       " \u001b[1m[\u001b[0m\u001b[1m[\u001b[0m\u001b[1;36m79\u001b[0m \u001b[1;36m41\u001b[0m\u001b[1m]\u001b[0m\n",
       "  \u001b[1m[\u001b[0m\u001b[1;36m17\u001b[0m \u001b[1;36m77\u001b[0m\u001b[1m]\u001b[0m\n",
       "  \u001b[1m[\u001b[0m\u001b[1;36m15\u001b[0m \u001b[1;36m29\u001b[0m\u001b[1m]\u001b[0m\u001b[1m]\u001b[0m\u001b[1m]\u001b[0m\n"
      ]
     },
     "metadata": {},
     "output_type": "display_data"
    },
    {
     "data": {
      "text/html": [
       "<pre style=\"white-space:pre;overflow-x:auto;line-height:normal;font-family:Menlo,'DejaVu Sans Mono',consolas,'Courier New',monospace\"><span style=\"color: #008080; text-decoration-color: #008080; font-weight: bold\">2</span>: \n",
       " index     <span style=\"color: #008080; text-decoration-color: #008080; font-weight: bold\">2</span>\n",
       "xr       <span style=\"color: #008080; text-decoration-color: #008080; font-weight: bold\">30</span>\n",
       "xy       <span style=\"color: #008080; text-decoration-color: #008080; font-weight: bold\">40</span>\n",
       "Name: <span style=\"color: #008080; text-decoration-color: #008080; font-weight: bold\">1</span>, dtype: int64\n",
       "</pre>\n"
      ],
      "text/plain": [
       "\u001b[1;36m2\u001b[0m: \n",
       " index     \u001b[1;36m2\u001b[0m\n",
       "xr       \u001b[1;36m30\u001b[0m\n",
       "xy       \u001b[1;36m40\u001b[0m\n",
       "Name: \u001b[1;36m1\u001b[0m, dtype: int64\n"
      ]
     },
     "metadata": {},
     "output_type": "display_data"
    },
    {
     "data": {
      "text/html": [
       "<pre style=\"white-space:pre;overflow-x:auto;line-height:normal;font-family:Menlo,'DejaVu Sans Mono',consolas,'Courier New',monospace\">Rectangles - \n",
       " <span style=\"font-weight: bold\">[[[</span>  <span style=\"color: #008080; text-decoration-color: #008080; font-weight: bold\">10</span>   <span style=\"color: #008080; text-decoration-color: #008080; font-weight: bold\">20</span><span style=\"font-weight: bold\">]</span>\n",
       "  <span style=\"font-weight: bold\">[</span>  <span style=\"color: #008080; text-decoration-color: #008080; font-weight: bold\">30</span>   <span style=\"color: #008080; text-decoration-color: #008080; font-weight: bold\">40</span><span style=\"font-weight: bold\">]]</span>\n",
       "\n",
       " <span style=\"font-weight: bold\">[[</span>  <span style=\"color: #008080; text-decoration-color: #008080; font-weight: bold\">50</span>   <span style=\"color: #008080; text-decoration-color: #008080; font-weight: bold\">60</span><span style=\"font-weight: bold\">]</span>\n",
       "  <span style=\"font-weight: bold\">[</span>  <span style=\"color: #008080; text-decoration-color: #008080; font-weight: bold\">10</span>    <span style=\"color: #008080; text-decoration-color: #008080; font-weight: bold\">0</span><span style=\"font-weight: bold\">]]</span>\n",
       "\n",
       " <span style=\"font-weight: bold\">[[</span> <span style=\"color: #008080; text-decoration-color: #008080; font-weight: bold\">100</span> <span style=\"color: #008080; text-decoration-color: #008080; font-weight: bold\">1000</span><span style=\"font-weight: bold\">]</span>\n",
       "  <span style=\"font-weight: bold\">[</span> <span style=\"color: #008080; text-decoration-color: #008080; font-weight: bold\">102</span> <span style=\"color: #008080; text-decoration-color: #008080; font-weight: bold\">1200</span><span style=\"font-weight: bold\">]]]</span> \n",
       " \n",
       " Wind Fields- \n",
       " <span style=\"font-weight: bold\">[[[</span><span style=\"color: #008080; text-decoration-color: #008080; font-weight: bold\">27</span> <span style=\"color: #008080; text-decoration-color: #008080; font-weight: bold\">87</span><span style=\"font-weight: bold\">]</span>\n",
       "  <span style=\"font-weight: bold\">[</span><span style=\"color: #008080; text-decoration-color: #008080; font-weight: bold\">75</span> <span style=\"color: #008080; text-decoration-color: #008080; font-weight: bold\">30</span><span style=\"font-weight: bold\">]</span>\n",
       "  <span style=\"font-weight: bold\">[</span><span style=\"color: #008080; text-decoration-color: #008080; font-weight: bold\">71</span> <span style=\"color: #008080; text-decoration-color: #008080; font-weight: bold\">19</span><span style=\"font-weight: bold\">]]</span>\n",
       "\n",
       " <span style=\"font-weight: bold\">[[</span><span style=\"color: #008080; text-decoration-color: #008080; font-weight: bold\">91</span> <span style=\"color: #008080; text-decoration-color: #008080; font-weight: bold\">60</span><span style=\"font-weight: bold\">]</span>\n",
       "  <span style=\"font-weight: bold\">[</span><span style=\"color: #008080; text-decoration-color: #008080; font-weight: bold\">98</span> <span style=\"color: #008080; text-decoration-color: #008080; font-weight: bold\">89</span><span style=\"font-weight: bold\">]</span>\n",
       "  <span style=\"font-weight: bold\">[</span><span style=\"color: #008080; text-decoration-color: #008080; font-weight: bold\">22</span> <span style=\"color: #008080; text-decoration-color: #008080; font-weight: bold\">18</span><span style=\"font-weight: bold\">]]</span>\n",
       "\n",
       " <span style=\"font-weight: bold\">[[</span><span style=\"color: #008080; text-decoration-color: #008080; font-weight: bold\">89</span> <span style=\"color: #008080; text-decoration-color: #008080; font-weight: bold\">88</span><span style=\"font-weight: bold\">]</span>\n",
       "  <span style=\"font-weight: bold\">[</span><span style=\"color: #008080; text-decoration-color: #008080; font-weight: bold\">69</span> <span style=\"color: #008080; text-decoration-color: #008080; font-weight: bold\">91</span><span style=\"font-weight: bold\">]</span>\n",
       "  <span style=\"font-weight: bold\">[</span><span style=\"color: #008080; text-decoration-color: #008080; font-weight: bold\">16</span> <span style=\"color: #008080; text-decoration-color: #008080; font-weight: bold\">25</span><span style=\"font-weight: bold\">]]</span>\n",
       "\n",
       " <span style=\"font-weight: bold\">[[</span><span style=\"color: #008080; text-decoration-color: #008080; font-weight: bold\">84</span> <span style=\"color: #008080; text-decoration-color: #008080; font-weight: bold\">29</span><span style=\"font-weight: bold\">]</span>\n",
       "  <span style=\"font-weight: bold\">[</span><span style=\"color: #008080; text-decoration-color: #008080; font-weight: bold\">17</span> <span style=\"color: #008080; text-decoration-color: #008080; font-weight: bold\">91</span><span style=\"font-weight: bold\">]</span>\n",
       "  <span style=\"font-weight: bold\">[</span><span style=\"color: #008080; text-decoration-color: #008080; font-weight: bold\">58</span> <span style=\"color: #008080; text-decoration-color: #008080; font-weight: bold\">35</span><span style=\"font-weight: bold\">]]]</span>\n",
       "</pre>\n"
      ],
      "text/plain": [
       "Rectangles - \n",
       " \u001b[1m[\u001b[0m\u001b[1m[\u001b[0m\u001b[1m[\u001b[0m  \u001b[1;36m10\u001b[0m   \u001b[1;36m20\u001b[0m\u001b[1m]\u001b[0m\n",
       "  \u001b[1m[\u001b[0m  \u001b[1;36m30\u001b[0m   \u001b[1;36m40\u001b[0m\u001b[1m]\u001b[0m\u001b[1m]\u001b[0m\n",
       "\n",
       " \u001b[1m[\u001b[0m\u001b[1m[\u001b[0m  \u001b[1;36m50\u001b[0m   \u001b[1;36m60\u001b[0m\u001b[1m]\u001b[0m\n",
       "  \u001b[1m[\u001b[0m  \u001b[1;36m10\u001b[0m    \u001b[1;36m0\u001b[0m\u001b[1m]\u001b[0m\u001b[1m]\u001b[0m\n",
       "\n",
       " \u001b[1m[\u001b[0m\u001b[1m[\u001b[0m \u001b[1;36m100\u001b[0m \u001b[1;36m1000\u001b[0m\u001b[1m]\u001b[0m\n",
       "  \u001b[1m[\u001b[0m \u001b[1;36m102\u001b[0m \u001b[1;36m1200\u001b[0m\u001b[1m]\u001b[0m\u001b[1m]\u001b[0m\u001b[1m]\u001b[0m \n",
       " \n",
       " Wind Fields- \n",
       " \u001b[1m[\u001b[0m\u001b[1m[\u001b[0m\u001b[1m[\u001b[0m\u001b[1;36m27\u001b[0m \u001b[1;36m87\u001b[0m\u001b[1m]\u001b[0m\n",
       "  \u001b[1m[\u001b[0m\u001b[1;36m75\u001b[0m \u001b[1;36m30\u001b[0m\u001b[1m]\u001b[0m\n",
       "  \u001b[1m[\u001b[0m\u001b[1;36m71\u001b[0m \u001b[1;36m19\u001b[0m\u001b[1m]\u001b[0m\u001b[1m]\u001b[0m\n",
       "\n",
       " \u001b[1m[\u001b[0m\u001b[1m[\u001b[0m\u001b[1;36m91\u001b[0m \u001b[1;36m60\u001b[0m\u001b[1m]\u001b[0m\n",
       "  \u001b[1m[\u001b[0m\u001b[1;36m98\u001b[0m \u001b[1;36m89\u001b[0m\u001b[1m]\u001b[0m\n",
       "  \u001b[1m[\u001b[0m\u001b[1;36m22\u001b[0m \u001b[1;36m18\u001b[0m\u001b[1m]\u001b[0m\u001b[1m]\u001b[0m\n",
       "\n",
       " \u001b[1m[\u001b[0m\u001b[1m[\u001b[0m\u001b[1;36m89\u001b[0m \u001b[1;36m88\u001b[0m\u001b[1m]\u001b[0m\n",
       "  \u001b[1m[\u001b[0m\u001b[1;36m69\u001b[0m \u001b[1;36m91\u001b[0m\u001b[1m]\u001b[0m\n",
       "  \u001b[1m[\u001b[0m\u001b[1;36m16\u001b[0m \u001b[1;36m25\u001b[0m\u001b[1m]\u001b[0m\u001b[1m]\u001b[0m\n",
       "\n",
       " \u001b[1m[\u001b[0m\u001b[1m[\u001b[0m\u001b[1;36m84\u001b[0m \u001b[1;36m29\u001b[0m\u001b[1m]\u001b[0m\n",
       "  \u001b[1m[\u001b[0m\u001b[1;36m17\u001b[0m \u001b[1;36m91\u001b[0m\u001b[1m]\u001b[0m\n",
       "  \u001b[1m[\u001b[0m\u001b[1;36m58\u001b[0m \u001b[1;36m35\u001b[0m\u001b[1m]\u001b[0m\u001b[1m]\u001b[0m\u001b[1m]\u001b[0m\n"
      ]
     },
     "metadata": {},
     "output_type": "display_data"
    },
    {
     "data": {
      "text/html": [
       "<pre style=\"white-space:pre;overflow-x:auto;line-height:normal;font-family:Menlo,'DejaVu Sans Mono',consolas,'Courier New',monospace\"><span style=\"color: #008080; text-decoration-color: #008080; font-weight: bold\">3</span>: \n",
       " index     <span style=\"color: #008080; text-decoration-color: #008080; font-weight: bold\">3</span>\n",
       "xr       <span style=\"color: #008080; text-decoration-color: #008080; font-weight: bold\">40</span>\n",
       "xy       <span style=\"color: #008080; text-decoration-color: #008080; font-weight: bold\">50</span>\n",
       "Name: <span style=\"color: #008080; text-decoration-color: #008080; font-weight: bold\">2</span>, dtype: int64\n",
       "</pre>\n"
      ],
      "text/plain": [
       "\u001b[1;36m3\u001b[0m: \n",
       " index     \u001b[1;36m3\u001b[0m\n",
       "xr       \u001b[1;36m40\u001b[0m\n",
       "xy       \u001b[1;36m50\u001b[0m\n",
       "Name: \u001b[1;36m2\u001b[0m, dtype: int64\n"
      ]
     },
     "metadata": {},
     "output_type": "display_data"
    },
    {
     "data": {
      "text/html": [
       "<pre style=\"white-space:pre;overflow-x:auto;line-height:normal;font-family:Menlo,'DejaVu Sans Mono',consolas,'Courier New',monospace\">Rectangles - \n",
       " <span style=\"font-weight: bold\">[[[</span> <span style=\"color: #008080; text-decoration-color: #008080; font-weight: bold\">0</span>  <span style=\"color: #008080; text-decoration-color: #008080; font-weight: bold\">0</span><span style=\"font-weight: bold\">]</span>\n",
       "  <span style=\"font-weight: bold\">[</span><span style=\"color: #008080; text-decoration-color: #008080; font-weight: bold\">30</span> <span style=\"color: #008080; text-decoration-color: #008080; font-weight: bold\">10</span><span style=\"font-weight: bold\">]]</span>\n",
       "\n",
       " <span style=\"font-weight: bold\">[[</span><span style=\"color: #008080; text-decoration-color: #008080; font-weight: bold\">50</span> <span style=\"color: #008080; text-decoration-color: #008080; font-weight: bold\">40</span><span style=\"font-weight: bold\">]</span>\n",
       "  <span style=\"font-weight: bold\">[</span><span style=\"color: #008080; text-decoration-color: #008080; font-weight: bold\">10</span> <span style=\"color: #008080; text-decoration-color: #008080; font-weight: bold\">40</span><span style=\"font-weight: bold\">]]</span>\n",
       "\n",
       " <span style=\"font-weight: bold\">[[</span> <span style=\"color: #008080; text-decoration-color: #008080; font-weight: bold\">0</span> <span style=\"color: #008080; text-decoration-color: #008080; font-weight: bold\">40</span><span style=\"font-weight: bold\">]</span>\n",
       "  <span style=\"font-weight: bold\">[</span> <span style=\"color: #008080; text-decoration-color: #008080; font-weight: bold\">2</span> <span style=\"color: #008080; text-decoration-color: #008080; font-weight: bold\">12</span><span style=\"font-weight: bold\">]]</span>\n",
       "\n",
       " <span style=\"font-weight: bold\">[[</span><span style=\"color: #008080; text-decoration-color: #008080; font-weight: bold\">50</span> <span style=\"color: #008080; text-decoration-color: #008080; font-weight: bold\">40</span><span style=\"font-weight: bold\">]</span>\n",
       "  <span style=\"font-weight: bold\">[</span><span style=\"color: #008080; text-decoration-color: #008080; font-weight: bold\">10</span> <span style=\"color: #008080; text-decoration-color: #008080; font-weight: bold\">40</span><span style=\"font-weight: bold\">]]</span>\n",
       "\n",
       " <span style=\"font-weight: bold\">[[</span><span style=\"color: #008080; text-decoration-color: #008080; font-weight: bold\">50</span>  <span style=\"color: #008080; text-decoration-color: #008080; font-weight: bold\">0</span><span style=\"font-weight: bold\">]</span>\n",
       "  <span style=\"font-weight: bold\">[</span><span style=\"color: #008080; text-decoration-color: #008080; font-weight: bold\">10</span>  <span style=\"color: #008080; text-decoration-color: #008080; font-weight: bold\">4</span><span style=\"font-weight: bold\">]]]</span> \n",
       " \n",
       " Wind Fields- \n",
       " <span style=\"font-weight: bold\">[[[</span><span style=\"color: #008080; text-decoration-color: #008080; font-weight: bold\">78</span> <span style=\"color: #008080; text-decoration-color: #008080; font-weight: bold\">32</span><span style=\"font-weight: bold\">]</span>\n",
       "  <span style=\"font-weight: bold\">[</span> <span style=\"color: #008080; text-decoration-color: #008080; font-weight: bold\">6</span> <span style=\"color: #008080; text-decoration-color: #008080; font-weight: bold\">10</span><span style=\"font-weight: bold\">]</span>\n",
       "  <span style=\"font-weight: bold\">[</span> <span style=\"color: #008080; text-decoration-color: #008080; font-weight: bold\">8</span> <span style=\"color: #008080; text-decoration-color: #008080; font-weight: bold\">46</span><span style=\"font-weight: bold\">]]</span>\n",
       "\n",
       " <span style=\"font-weight: bold\">[[</span><span style=\"color: #008080; text-decoration-color: #008080; font-weight: bold\">36</span> <span style=\"color: #008080; text-decoration-color: #008080; font-weight: bold\">77</span><span style=\"font-weight: bold\">]</span>\n",
       "  <span style=\"font-weight: bold\">[</span><span style=\"color: #008080; text-decoration-color: #008080; font-weight: bold\">11</span> <span style=\"color: #008080; text-decoration-color: #008080; font-weight: bold\">53</span><span style=\"font-weight: bold\">]</span>\n",
       "  <span style=\"font-weight: bold\">[</span><span style=\"color: #008080; text-decoration-color: #008080; font-weight: bold\">90</span>  <span style=\"color: #008080; text-decoration-color: #008080; font-weight: bold\">0</span><span style=\"font-weight: bold\">]]</span>\n",
       "\n",
       " <span style=\"font-weight: bold\">[[</span><span style=\"color: #008080; text-decoration-color: #008080; font-weight: bold\">68</span> <span style=\"color: #008080; text-decoration-color: #008080; font-weight: bold\">37</span><span style=\"font-weight: bold\">]</span>\n",
       "  <span style=\"font-weight: bold\">[</span><span style=\"color: #008080; text-decoration-color: #008080; font-weight: bold\">90</span> <span style=\"color: #008080; text-decoration-color: #008080; font-weight: bold\">98</span><span style=\"font-weight: bold\">]</span>\n",
       "  <span style=\"font-weight: bold\">[</span><span style=\"color: #008080; text-decoration-color: #008080; font-weight: bold\">98</span> <span style=\"color: #008080; text-decoration-color: #008080; font-weight: bold\">72</span><span style=\"font-weight: bold\">]]</span>\n",
       "\n",
       " <span style=\"font-weight: bold\">[[</span><span style=\"color: #008080; text-decoration-color: #008080; font-weight: bold\">40</span> <span style=\"color: #008080; text-decoration-color: #008080; font-weight: bold\">94</span><span style=\"font-weight: bold\">]</span>\n",
       "  <span style=\"font-weight: bold\">[</span><span style=\"color: #008080; text-decoration-color: #008080; font-weight: bold\">60</span> <span style=\"color: #008080; text-decoration-color: #008080; font-weight: bold\">51</span><span style=\"font-weight: bold\">]</span>\n",
       "  <span style=\"font-weight: bold\">[</span><span style=\"color: #008080; text-decoration-color: #008080; font-weight: bold\">65</span> <span style=\"color: #008080; text-decoration-color: #008080; font-weight: bold\">29</span><span style=\"font-weight: bold\">]]]</span>\n",
       "</pre>\n"
      ],
      "text/plain": [
       "Rectangles - \n",
       " \u001b[1m[\u001b[0m\u001b[1m[\u001b[0m\u001b[1m[\u001b[0m \u001b[1;36m0\u001b[0m  \u001b[1;36m0\u001b[0m\u001b[1m]\u001b[0m\n",
       "  \u001b[1m[\u001b[0m\u001b[1;36m30\u001b[0m \u001b[1;36m10\u001b[0m\u001b[1m]\u001b[0m\u001b[1m]\u001b[0m\n",
       "\n",
       " \u001b[1m[\u001b[0m\u001b[1m[\u001b[0m\u001b[1;36m50\u001b[0m \u001b[1;36m40\u001b[0m\u001b[1m]\u001b[0m\n",
       "  \u001b[1m[\u001b[0m\u001b[1;36m10\u001b[0m \u001b[1;36m40\u001b[0m\u001b[1m]\u001b[0m\u001b[1m]\u001b[0m\n",
       "\n",
       " \u001b[1m[\u001b[0m\u001b[1m[\u001b[0m \u001b[1;36m0\u001b[0m \u001b[1;36m40\u001b[0m\u001b[1m]\u001b[0m\n",
       "  \u001b[1m[\u001b[0m \u001b[1;36m2\u001b[0m \u001b[1;36m12\u001b[0m\u001b[1m]\u001b[0m\u001b[1m]\u001b[0m\n",
       "\n",
       " \u001b[1m[\u001b[0m\u001b[1m[\u001b[0m\u001b[1;36m50\u001b[0m \u001b[1;36m40\u001b[0m\u001b[1m]\u001b[0m\n",
       "  \u001b[1m[\u001b[0m\u001b[1;36m10\u001b[0m \u001b[1;36m40\u001b[0m\u001b[1m]\u001b[0m\u001b[1m]\u001b[0m\n",
       "\n",
       " \u001b[1m[\u001b[0m\u001b[1m[\u001b[0m\u001b[1;36m50\u001b[0m  \u001b[1;36m0\u001b[0m\u001b[1m]\u001b[0m\n",
       "  \u001b[1m[\u001b[0m\u001b[1;36m10\u001b[0m  \u001b[1;36m4\u001b[0m\u001b[1m]\u001b[0m\u001b[1m]\u001b[0m\u001b[1m]\u001b[0m \n",
       " \n",
       " Wind Fields- \n",
       " \u001b[1m[\u001b[0m\u001b[1m[\u001b[0m\u001b[1m[\u001b[0m\u001b[1;36m78\u001b[0m \u001b[1;36m32\u001b[0m\u001b[1m]\u001b[0m\n",
       "  \u001b[1m[\u001b[0m \u001b[1;36m6\u001b[0m \u001b[1;36m10\u001b[0m\u001b[1m]\u001b[0m\n",
       "  \u001b[1m[\u001b[0m \u001b[1;36m8\u001b[0m \u001b[1;36m46\u001b[0m\u001b[1m]\u001b[0m\u001b[1m]\u001b[0m\n",
       "\n",
       " \u001b[1m[\u001b[0m\u001b[1m[\u001b[0m\u001b[1;36m36\u001b[0m \u001b[1;36m77\u001b[0m\u001b[1m]\u001b[0m\n",
       "  \u001b[1m[\u001b[0m\u001b[1;36m11\u001b[0m \u001b[1;36m53\u001b[0m\u001b[1m]\u001b[0m\n",
       "  \u001b[1m[\u001b[0m\u001b[1;36m90\u001b[0m  \u001b[1;36m0\u001b[0m\u001b[1m]\u001b[0m\u001b[1m]\u001b[0m\n",
       "\n",
       " \u001b[1m[\u001b[0m\u001b[1m[\u001b[0m\u001b[1;36m68\u001b[0m \u001b[1;36m37\u001b[0m\u001b[1m]\u001b[0m\n",
       "  \u001b[1m[\u001b[0m\u001b[1;36m90\u001b[0m \u001b[1;36m98\u001b[0m\u001b[1m]\u001b[0m\n",
       "  \u001b[1m[\u001b[0m\u001b[1;36m98\u001b[0m \u001b[1;36m72\u001b[0m\u001b[1m]\u001b[0m\u001b[1m]\u001b[0m\n",
       "\n",
       " \u001b[1m[\u001b[0m\u001b[1m[\u001b[0m\u001b[1;36m40\u001b[0m \u001b[1;36m94\u001b[0m\u001b[1m]\u001b[0m\n",
       "  \u001b[1m[\u001b[0m\u001b[1;36m60\u001b[0m \u001b[1;36m51\u001b[0m\u001b[1m]\u001b[0m\n",
       "  \u001b[1m[\u001b[0m\u001b[1;36m65\u001b[0m \u001b[1;36m29\u001b[0m\u001b[1m]\u001b[0m\u001b[1m]\u001b[0m\u001b[1m]\u001b[0m\n"
      ]
     },
     "metadata": {},
     "output_type": "display_data"
    }
   ],
   "source": [
    "for i, sample in enumerate(local_wind_field_dataset, 1):\n",
    "    rect, wind = sample\n",
    "    print(f\"{i}: \\n {data}\")\n",
    "    print(f\"Rectangles - \\n {rect} \\n \\n Wind Fields- \\n {wind}\")"
   ]
  }
 ],
 "metadata": {
  "kernelspec": {
   "display_name": "Python 3",
   "language": "python",
   "name": "python3"
  },
  "language_info": {
   "codemirror_mode": {
    "name": "ipython",
    "version": 3
   },
   "file_extension": ".py",
   "mimetype": "text/x-python",
   "name": "python",
   "nbconvert_exporter": "python",
   "pygments_lexer": "ipython3",
   "version": "3.11.5"
  }
 },
 "nbformat": 4,
 "nbformat_minor": 2
}
